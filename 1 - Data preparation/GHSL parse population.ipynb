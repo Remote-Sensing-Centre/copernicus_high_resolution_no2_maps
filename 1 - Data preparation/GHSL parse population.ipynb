{
 "cells": [
  {
   "cell_type": "code",
   "execution_count": null,
   "id": "9f782008-8456-4196-9937-8cdc0648ef84",
   "metadata": {},
   "outputs": [],
   "source": [
    "import rasterio\n",
    "import geopandas as gpd\n",
    "from rasterstats import zonal_stats\n",
    "from shapely.ops import transform as shapely_transform\n",
    "import pyproj\n",
    "from shapely.geometry import box, Polygon, MultiPolygon\n",
    "import h3"
   ]
  },
  {
   "cell_type": "markdown",
   "id": "2a8f431e-0b55-482b-b1dd-fd88f4229a90",
   "metadata": {},
   "source": [
    "## Settings"
   ]
  },
  {
   "cell_type": "code",
   "execution_count": null,
   "id": "60a66642-ee29-4216-9a97-997de0beea52",
   "metadata": {},
   "outputs": [],
   "source": [
    "AOI = \"metropolia_gornoslasko-zaglebiowska_8269826.geojson\" # GeoJSON or None\n",
    "MAP_HEX_SIZE = 9"
   ]
  },
  {
   "cell_type": "markdown",
   "id": "b050fd27-419a-45fa-8fd5-41c35a1b4b77",
   "metadata": {},
   "source": [
    "## Definitions"
   ]
  },
  {
   "cell_type": "code",
   "execution_count": null,
   "id": "133b53e2-a3ec-4bdf-ba40-b907ed654c3e",
   "metadata": {},
   "outputs": [],
   "source": [
    "mollweide = pyproj.CRS(\"ESRI:54009\")\n",
    "wgs84 = pyproj.CRS(\"EPSG:4326\")"
   ]
  },
  {
   "cell_type": "code",
   "execution_count": null,
   "id": "270a0c42-6653-4b66-a1a4-07e462beb773",
   "metadata": {},
   "outputs": [],
   "source": [
    "def hex_to_polygon(h3_index):\n",
    "    boundary = h3.cell_to_boundary(h3_index)\n",
    "    return Polygon([(lon, lat) for lat, lon in boundary])"
   ]
  },
  {
   "cell_type": "code",
   "execution_count": null,
   "id": "af7bc1d5-d8de-405d-8c6b-b03f12dacfeb",
   "metadata": {},
   "outputs": [],
   "source": [
    "def get_hexes_for_polygon(polygon, target_hex_size=7, fill_hex_size=10):\n",
    "    polygon_points_lon_lat = polygon.exterior.coords\n",
    "    polygon_points_lat_lon = tuple(coord[::-1] for coord in polygon_points_lon_lat)\n",
    "    h3_polygon = h3.LatLngPoly(polygon_points_lat_lon)\n",
    "    fill_hexes = h3.h3shape_to_cells(h3_polygon, fill_hex_size)\n",
    "    target_hexes = {h3.cell_to_parent(h, target_hex_size) for h in fill_hexes}\n",
    "    return target_hexes"
   ]
  },
  {
   "cell_type": "code",
   "execution_count": null,
   "id": "eb68fc6b-da55-46f5-ad13-14189ea6a9ef",
   "metadata": {},
   "outputs": [],
   "source": [
    "tiff_path = \"GHS_POP_E2025_GLOBE_R2023A_54009_100_V1_0_R4_C21.tif\"\n",
    "with rasterio.open(tiff_path) as src:\n",
    "    bounds = src.bounds\n",
    "    crs = src.crs\n",
    "    raster_data = src.read(1)\n",
    "    transform = src.transform"
   ]
  },
  {
   "cell_type": "code",
   "execution_count": null,
   "id": "cd126b0c-4337-4892-90db-fd79494268bc",
   "metadata": {},
   "outputs": [],
   "source": [
    "project = pyproj.Transformer.from_crs(crs_from=mollweide, crs_to=wgs84, always_xy=True).transform"
   ]
  },
  {
   "cell_type": "code",
   "execution_count": null,
   "id": "58b37917-6bf1-4147-851f-66d21cc26e2f",
   "metadata": {},
   "outputs": [],
   "source": [
    "bbox = box(bounds.left, bounds.bottom, bounds.right, bounds.top)\n",
    "bbox_wgs84 = shapely_transform(project, bbox)\n",
    "bbox_coords = [(x, y) for x, y in bbox_wgs84.exterior.coords]"
   ]
  },
  {
   "cell_type": "code",
   "execution_count": null,
   "id": "3afd8c01-e7b4-444c-8527-79e7366d5d1b",
   "metadata": {},
   "outputs": [],
   "source": [
    "if AOI:\n",
    "    gdf_aoi = gpd.read_file(AOI)\n",
    "    geometry = gdf_aoi[\"geometry\"].iloc[0]\n",
    "else:\n",
    "    geometry = Polygon(shell=bbox_coords)"
   ]
  },
  {
   "cell_type": "code",
   "execution_count": null,
   "id": "9f9d3bcf-1f49-4342-bf47-9192528eccb5",
   "metadata": {},
   "outputs": [],
   "source": [
    "geometry"
   ]
  },
  {
   "cell_type": "code",
   "execution_count": null,
   "id": "1c257d73-3b7d-4775-9f62-dce763ea8155",
   "metadata": {},
   "outputs": [],
   "source": [
    "aoi_hexes = set()"
   ]
  },
  {
   "cell_type": "code",
   "execution_count": null,
   "id": "432a9799-d3ca-4eb1-986a-713e6188608a",
   "metadata": {},
   "outputs": [],
   "source": [
    "if isinstance(geometry, Polygon):\n",
    "    aoi_hexes = get_hexes_for_polygon(polygon=geometry, target_hex_size=MAP_HEX_SIZE)\n",
    "elif isinstance(geometry, MultiPolygon):\n",
    "    for geom_polygon in geometry.geoms:\n",
    "        aoi_hexes.update(get_hexes_for_polygon(polygon=geom_polygon, target_hex_size=MAP_HEX_SIZE))"
   ]
  },
  {
   "cell_type": "code",
   "execution_count": null,
   "id": "04c9c1ea-f392-41a1-97a2-53c5273e0f3f",
   "metadata": {},
   "outputs": [],
   "source": [
    "hex_polygons = [hex_to_polygon(h) for h in aoi_hexes]\n",
    "gdf = gpd.GeoDataFrame({'h3_index': list(aoi_hexes)}, geometry=hex_polygons, crs=\"EPSG:4326\")\n",
    "gdf.head()"
   ]
  },
  {
   "cell_type": "code",
   "execution_count": null,
   "id": "e4a02e67-bec9-4b5a-a781-c7132668fe85",
   "metadata": {},
   "outputs": [],
   "source": [
    "gdf = gdf.to_crs(mollweide)\n",
    "gdf.head()"
   ]
  },
  {
   "cell_type": "code",
   "execution_count": null,
   "id": "db38f079-51e0-4d6b-973b-b6859d914508",
   "metadata": {},
   "outputs": [],
   "source": [
    "stats = zonal_stats(gdf, tiff_path, stats=[\"sum\"], geojson_out=True)"
   ]
  },
  {
   "cell_type": "code",
   "execution_count": null,
   "id": "04a10628-22c6-4033-ba6e-214e4e4c1298",
   "metadata": {},
   "outputs": [],
   "source": [
    "stats_gdf = gpd.GeoDataFrame.from_features(stats)\n",
    "stats_gdf.head()"
   ]
  },
  {
   "cell_type": "code",
   "execution_count": null,
   "id": "8cb19957-4a2c-43e3-b554-d1cac5cef405",
   "metadata": {},
   "outputs": [],
   "source": [
    "gdf_output = stats_gdf[[\"h3_index\", \"sum\"]]\n",
    "gdf_output = gdf_output.dropna()\n",
    "if gdf_output.size > 0:\n",
    "    gdf_output[\"sum\"] = gdf_output[\"sum\"].round().astype(\"int\")\n",
    "    gdf_output.head()"
   ]
  },
  {
   "cell_type": "code",
   "execution_count": null,
   "id": "2fdb7276-59a2-4fa6-b701-b6853d66d120",
   "metadata": {},
   "outputs": [],
   "source": [
    "if gdf_output.size > 0:\n",
    "    print(\"Exporting data to .csv file\")\n",
    "    gdf_output.to_csv(tiff_path.replace(\".tif\", \".csv\"), header=False, index=False)\n",
    "else:\n",
    "    print(\"No data to export\")"
   ]
  },
  {
   "cell_type": "code",
   "execution_count": null,
   "id": "1c7a0cdf-18a3-4489-856f-caae924cdffa",
   "metadata": {},
   "outputs": [],
   "source": []
  }
 ],
 "metadata": {
  "kernelspec": {
   "display_name": "Python 3 (ipykernel)",
   "language": "python",
   "name": "python3"
  },
  "language_info": {
   "codemirror_mode": {
    "name": "ipython",
    "version": 3
   },
   "file_extension": ".py",
   "mimetype": "text/x-python",
   "name": "python",
   "nbconvert_exporter": "python",
   "pygments_lexer": "ipython3",
   "version": "3.12.10"
  }
 },
 "nbformat": 4,
 "nbformat_minor": 5
}
