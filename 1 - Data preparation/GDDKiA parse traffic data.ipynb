{
 "cells": [
  {
   "cell_type": "code",
   "execution_count": null,
   "id": "b2990674-89ac-4e5f-b610-aee8166a75d7",
   "metadata": {},
   "outputs": [],
   "source": [
    "import pandas as pd"
   ]
  },
  {
   "cell_type": "code",
   "execution_count": null,
   "id": "efd10c19-16dc-4451-ad7f-52b72b4894d1",
   "metadata": {},
   "outputs": [],
   "source": [
    "DATA = \"DANE2023.csv\"\n",
    "STATIONS = [24002, 24004, 24005, 24007, 24008, 24018, 24019, 24023]"
   ]
  },
  {
   "cell_type": "code",
   "execution_count": null,
   "id": "184822d7-3dce-43bd-bfc9-cb146f17c077",
   "metadata": {},
   "outputs": [],
   "source": [
    "df = pd.read_csv(DATA, delimiter=\";\")\n",
    "df.head()"
   ]
  },
  {
   "cell_type": "code",
   "execution_count": null,
   "id": "2ed4bd44-aa17-4e5f-ae41-c1859d460e31",
   "metadata": {},
   "outputs": [],
   "source": [
    "df = df.loc[:, ~df.columns.str.contains(\"SZAC\")]\n",
    "df = df[df[\"STACJA\"].isin(STATIONS)]\n",
    "df.drop(columns=[\"ROK\", \"NRPOMIARU\", \"TYDZ\", \"NRDNIA\", \"SDRD\", \"SDRDN\"], inplace=True)\n",
    "df.rename(columns={\"STACJA\": \"station_id\", \"DATA\": \"date\"}, inplace=True)\n",
    "df.reset_index(drop=True, inplace=True)\n",
    "df.head()"
   ]
  },
  {
   "cell_type": "code",
   "execution_count": null,
   "id": "88aae459-883b-4f58-b0d6-6db9d0e3c90c",
   "metadata": {},
   "outputs": [],
   "source": [
    "id_vars = [\"station_id\", \"date\"]\n",
    "\n",
    "hourly_columns = [col for col in df.columns if col.startswith(\"G\")]\n",
    "\n",
    "df = df.melt(\n",
    "    id_vars=id_vars,\n",
    "    value_vars=hourly_columns,\n",
    "    var_name=\"hour\",\n",
    "    value_name=\"vehicles_count\"\n",
    ")\n",
    "df.head()"
   ]
  },
  {
   "cell_type": "code",
   "execution_count": null,
   "id": "45ded217-34a9-410d-94ea-a70c05b5d29a",
   "metadata": {},
   "outputs": [],
   "source": [
    "df[\"hour\"] = df[\"hour\"].str.extract(r\"G(\\d+)\", expand=False).astype(int)\n",
    "df[\"timestamp\"] = (pd.to_datetime(df[\"date\"]) + pd.to_timedelta(df[\"hour\"] - 1, unit=\"h\"))\n",
    "df[\"timestamp_utc\"] = df[\"timestamp\"] - pd.Timedelta(hours=1)\n",
    "df.drop(columns=[\"date\", \"hour\", \"timestamp\"], inplace=True)\n",
    "df = df.sort_values(by=[\"station_id\", \"timestamp_utc\"]).reset_index(drop=True)\n",
    "df = df[[\"timestamp_utc\", \"vehicles_count\"]]\n",
    "df[\"date\"] = df[\"timestamp_utc\"].dt.date\n",
    "df.head()"
   ]
  },
  {
   "cell_type": "code",
   "execution_count": null,
   "id": "349dfb4a-d58c-4064-aa46-07e8cab89a21",
   "metadata": {},
   "outputs": [],
   "source": [
    "df_hsum = df[[\"timestamp_utc\", \"vehicles_count\"]].groupby(by=\"timestamp_utc\", as_index=False).sum()\n",
    "df_hsum = df_hsum.iloc[1:]\n",
    "df_hsum.head()"
   ]
  },
  {
   "cell_type": "code",
   "execution_count": null,
   "id": "9923f8bb-cd63-4791-950f-e6aae295bd4a",
   "metadata": {},
   "outputs": [],
   "source": [
    "df_dsum = df[[\"date\", \"vehicles_count\"]].groupby(by=\"date\", as_index=False).sum()\n",
    "df_dsum = df_dsum.iloc[1:]\n",
    "df_dsum.head()"
   ]
  },
  {
   "cell_type": "code",
   "execution_count": null,
   "id": "34ded98a-0ff0-4fcf-b416-5f862d064673",
   "metadata": {},
   "outputs": [],
   "source": [
    "yearly_average = df_dsum[\"vehicles_count\"].mean()\n",
    "yearly_average"
   ]
  },
  {
   "cell_type": "code",
   "execution_count": null,
   "id": "7e289838-597e-4d22-a350-ecace918ae88",
   "metadata": {},
   "outputs": [],
   "source": [
    "df_dsum[\"yearly_mean_fraction\"] = df_dsum[\"vehicles_count\"] / yearly_average\n",
    "df_dsum[\"yearly_mean_fraction\"] = df_dsum[\"yearly_mean_fraction\"].round(4)\n",
    "df_dsum.head()"
   ]
  },
  {
   "cell_type": "code",
   "execution_count": null,
   "id": "3c03a218-aa8b-4ca0-aeeb-fd632394cf79",
   "metadata": {},
   "outputs": [],
   "source": [
    "df_hsum[\"date\"] = df_hsum[\"timestamp_utc\"].dt.date\n",
    "df_merged = pd.merge(df_hsum, df_dsum, on=\"date\", suffixes=(\"_hourly\", \"_daily\"))\n",
    "df_merged[\"daily_fraction\"] = df_merged[\"vehicles_count_hourly\"] / df_merged[\"vehicles_count_daily\"]\n",
    "df_merged[\"daily_fraction\"] = df_merged[\"daily_fraction\"].round(4)\n",
    "df_merged.head()"
   ]
  },
  {
   "cell_type": "code",
   "execution_count": null,
   "id": "e1df0a5b-4d43-4867-bbaa-2ab65e37cfe9",
   "metadata": {},
   "outputs": [],
   "source": [
    "df_output = df_merged[[\"timestamp_utc\", \"daily_fraction\", \"yearly_mean_fraction\"]].copy()\n",
    "df_output.head()"
   ]
  },
  {
   "cell_type": "code",
   "execution_count": null,
   "id": "862437d0-d194-46b1-b747-270c14d335a2",
   "metadata": {},
   "outputs": [],
   "source": [
    "df_output.to_csv(\"processed_traffic.csv\", index=False)"
   ]
  },
  {
   "cell_type": "code",
   "execution_count": null,
   "id": "07344451-203b-48b2-bf8c-34d07a273247",
   "metadata": {},
   "outputs": [],
   "source": []
  }
 ],
 "metadata": {
  "kernelspec": {
   "display_name": "Python 3 (ipykernel)",
   "language": "python",
   "name": "python3"
  },
  "language_info": {
   "codemirror_mode": {
    "name": "ipython",
    "version": 3
   },
   "file_extension": ".py",
   "mimetype": "text/x-python",
   "name": "python",
   "nbconvert_exporter": "python",
   "pygments_lexer": "ipython3",
   "version": "3.12.10"
  }
 },
 "nbformat": 4,
 "nbformat_minor": 5
}
