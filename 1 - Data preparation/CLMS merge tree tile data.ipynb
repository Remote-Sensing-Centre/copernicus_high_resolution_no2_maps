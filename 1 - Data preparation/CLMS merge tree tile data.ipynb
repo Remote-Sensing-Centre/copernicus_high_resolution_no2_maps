{
 "cells": [
  {
   "cell_type": "code",
   "execution_count": null,
   "id": "58d2ccde-66da-413a-a6c1-972ddb58dbea",
   "metadata": {},
   "outputs": [],
   "source": [
    "import glob\n",
    "import pandas as pd\n",
    "from os.path import exists"
   ]
  },
  {
   "cell_type": "code",
   "execution_count": null,
   "id": "11efd042-6ad7-4b24-92d1-dd9ec37cfac3",
   "metadata": {},
   "outputs": [],
   "source": [
    "NAME_SCHEMA = r\"D:\\CLMS\\TCD_2018_010m_pl_03035_v020\\DATA\\TCD_2018*_cleaned.csv\""
   ]
  },
  {
   "cell_type": "code",
   "execution_count": null,
   "id": "824ed64f-84da-4617-8454-949849b44958",
   "metadata": {},
   "outputs": [],
   "source": [
    "files = glob.glob(NAME_SCHEMA)\n",
    "files"
   ]
  },
  {
   "cell_type": "code",
   "execution_count": null,
   "id": "eead16b6-66a6-411a-88a2-359c74863422",
   "metadata": {},
   "outputs": [],
   "source": [
    "df = pd.concat((pd.read_csv(f, sep=\",\", header=None) for f in files), axis=0, ignore_index=True)\n",
    "df"
   ]
  },
  {
   "cell_type": "code",
   "execution_count": null,
   "id": "8276a7b2-c0fa-402a-be58-92648ee91f87",
   "metadata": {},
   "outputs": [],
   "source": [
    "df = df[(df[1] != 0) & (df[2] != 0)]\n",
    "df.head()"
   ]
  },
  {
   "cell_type": "code",
   "execution_count": null,
   "id": "07343fcb-b3dc-4294-ae28-a87f28b62c80",
   "metadata": {},
   "outputs": [],
   "source": [
    "df.columns = [\"h3_id\", \"pixel_count\", \"mean_value\"]"
   ]
  },
  {
   "cell_type": "code",
   "execution_count": null,
   "id": "61e47817-f332-43a0-87b6-2c84ddf0ca73",
   "metadata": {},
   "outputs": [],
   "source": [
    "df"
   ]
  },
  {
   "cell_type": "code",
   "execution_count": null,
   "id": "3241bc13-a513-415e-bc6c-2d8fb9173d65",
   "metadata": {},
   "outputs": [],
   "source": [
    "df = df.groupby(\"h3_id\", group_keys=False).apply(\n",
    "    lambda x: (x[\"mean_value\"] * x[\"pixel_count\"]).sum() / x[\"pixel_count\"].sum()\n",
    ").reset_index(name='weighted_mean')\n",
    "df"
   ]
  },
  {
   "cell_type": "code",
   "execution_count": null,
   "id": "2480616b-3e4d-4987-885e-7ee63002235e",
   "metadata": {},
   "outputs": [],
   "source": [
    "df[\"weighted_mean\"] = df[\"weighted_mean\"].round(1)"
   ]
  },
  {
   "cell_type": "code",
   "execution_count": null,
   "id": "46c1f657-6483-44f2-a63a-fcfef258b976",
   "metadata": {},
   "outputs": [],
   "source": [
    "OUTPUT_NAME = NAME_SCHEMA.replace(\"*_cleaned.csv\", \"_MERGED.csv\")\n",
    "if exists(OUTPUT_NAME):\n",
    "    print(\"Output file was already generated\")\n",
    "else:\n",
    "    df.to_csv(OUTPUT_NAME, header=False, index=False)"
   ]
  },
  {
   "cell_type": "code",
   "execution_count": null,
   "id": "7a40c0cf-3fcf-401a-a957-55bb858b9cd8",
   "metadata": {},
   "outputs": [],
   "source": []
  }
 ],
 "metadata": {
  "kernelspec": {
   "display_name": "Python 3 (ipykernel)",
   "language": "python",
   "name": "python3"
  },
  "language_info": {
   "codemirror_mode": {
    "name": "ipython",
    "version": 3
   },
   "file_extension": ".py",
   "mimetype": "text/x-python",
   "name": "python",
   "nbconvert_exporter": "python",
   "pygments_lexer": "ipython3",
   "version": "3.12.10"
  }
 },
 "nbformat": 4,
 "nbformat_minor": 5
}
