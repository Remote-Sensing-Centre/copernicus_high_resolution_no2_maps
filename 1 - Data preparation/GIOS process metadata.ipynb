{
 "cells": [
  {
   "cell_type": "code",
   "execution_count": null,
   "id": "ac799eaa-18cb-4557-8735-85515e5cd1bc",
   "metadata": {},
   "outputs": [],
   "source": [
    "import pandas as pd\n",
    "import h3"
   ]
  },
  {
   "cell_type": "code",
   "execution_count": null,
   "id": "086bb272-47d7-41d0-b696-6a837e2cfbd0",
   "metadata": {},
   "outputs": [],
   "source": [
    "INPUT_FILE = \"Metadane oraz kody stacji i stanowisk pomiarowych.csv\"\n",
    "OUTPUT_FILE = \"Processed_metadata.csv\""
   ]
  },
  {
   "cell_type": "code",
   "execution_count": null,
   "id": "f661cb3b-6450-48c8-833e-cbcccc8cb4e7",
   "metadata": {},
   "outputs": [],
   "source": [
    "df = pd.read_csv(INPUT_FILE, sep=\";\", encoding=\"UTF-8\")\n",
    "df.head()"
   ]
  },
  {
   "cell_type": "code",
   "execution_count": null,
   "id": "23570988-3d8f-4a31-9594-93aefaba05c6",
   "metadata": {},
   "outputs": [],
   "source": [
    "df = df[[\"Kod stacji\", \"Typ stacji\", \"Typ obszaru\", \"Rodzaj stacji\", \"WGS84 φ N\", \"WGS84 λ E\"]]\n",
    "df = df.rename(columns={\n",
    "    \"Kod stacji\": \"station_id\",\n",
    "    \"Typ stacji\": \"station_category\",\n",
    "    \"Typ obszaru\": \"area_category\",\n",
    "    \"Rodzaj stacji\": \"station_type\",\n",
    "    \"WGS84 φ N\": \"latitude\",\n",
    "    \"WGS84 λ E\": \"longitude\",\n",
    "})\n",
    "df.head()"
   ]
  },
  {
   "cell_type": "code",
   "execution_count": null,
   "id": "529bac4e-baa0-4e07-aaf9-20dacea9d0f4",
   "metadata": {},
   "outputs": [],
   "source": [
    "df[\"hex_7\"] = df.apply(lambda row: h3.latlng_to_cell(row.latitude, row.longitude, 7), axis=1)\n",
    "df[\"hex_9\"] = df.apply(lambda row: h3.latlng_to_cell(row.latitude, row.longitude, 9), axis=1)\n",
    "df.head()"
   ]
  },
  {
   "cell_type": "code",
   "execution_count": null,
   "id": "df113fdc-2703-4f3f-aeff-69283f12e5cc",
   "metadata": {},
   "outputs": [],
   "source": [
    "df.to_csv(OUTPUT_FILE, index=False)"
   ]
  },
  {
   "cell_type": "code",
   "execution_count": null,
   "id": "3904a06d-e78e-4985-b6e0-3d4e6e24c5c1",
   "metadata": {},
   "outputs": [],
   "source": []
  }
 ],
 "metadata": {
  "kernelspec": {
   "display_name": "Python 3 (ipykernel)",
   "language": "python",
   "name": "python3"
  },
  "language_info": {
   "codemirror_mode": {
    "name": "ipython",
    "version": 3
   },
   "file_extension": ".py",
   "mimetype": "text/x-python",
   "name": "python",
   "nbconvert_exporter": "python",
   "pygments_lexer": "ipython3",
   "version": "3.12.10"
  }
 },
 "nbformat": 4,
 "nbformat_minor": 5
}
