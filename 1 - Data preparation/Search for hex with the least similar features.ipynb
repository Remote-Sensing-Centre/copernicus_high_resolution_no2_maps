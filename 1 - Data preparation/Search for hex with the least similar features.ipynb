{
 "cells": [
  {
   "cell_type": "code",
   "execution_count": null,
   "id": "4210250c-1a82-4ace-bea7-ff56ca52894a",
   "metadata": {},
   "outputs": [],
   "source": [
    "import pandas as pd\n",
    "from sklearn.metrics.pairwise import euclidean_distances"
   ]
  },
  {
   "cell_type": "markdown",
   "id": "a0257b4c-6225-4989-83d8-0e9cc7c07f0c",
   "metadata": {},
   "source": [
    "## Settings"
   ]
  },
  {
   "cell_type": "code",
   "execution_count": null,
   "id": "b27a71ef-a090-40c6-a572-fa41a56b5d67",
   "metadata": {},
   "outputs": [],
   "source": [
    "DATA_FILE = \"spatial_dataset_osm_8269826_hex_7.csv\"\n",
    "TARGET_HEX = \"871e232d5ffffff\"\n",
    "TESTED_HEXES = [\n",
    "    \"871e05824ffffff\",\n",
    "    \"871e232a3ffffff\",\n",
    "    \"871e2e5a2ffffff\",\n",
    "    \"871e2e5b2ffffff\",\n",
    "]"
   ]
  },
  {
   "cell_type": "code",
   "execution_count": null,
   "id": "711a8bdf-035f-4732-9a4a-7b7d9bafc3dc",
   "metadata": {},
   "outputs": [],
   "source": [
    "df = pd.read_csv(DATA_FILE)\n",
    "df = df[df[\"h3_index\"].isin(TESTED_HEXES + [TARGET_HEX])]\n",
    "df.head()"
   ]
  },
  {
   "cell_type": "code",
   "execution_count": null,
   "id": "c0710bba-c008-43f9-ae67-aa1e30999e7c",
   "metadata": {},
   "outputs": [],
   "source": [
    "df_parameters = df.drop(columns=[\"h3_index\"])\n",
    "\n",
    "target_row = df[df[\"h3_index\"] == TARGET_HEX]\n",
    "target_params = target_row.drop(columns=[\"h3_index\"]).values"
   ]
  },
  {
   "cell_type": "code",
   "execution_count": null,
   "id": "41a5c493-c06c-49a7-86fa-fa9e21579cd6",
   "metadata": {},
   "outputs": [],
   "source": [
    "distances = euclidean_distances(df_parameters.values, target_params)\n",
    "df[\"distance\"] = distances"
   ]
  },
  {
   "cell_type": "code",
   "execution_count": null,
   "id": "a4ed253a-7274-43f6-9ff9-898b0c74c3c1",
   "metadata": {},
   "outputs": [],
   "source": [
    "df_filtered = df[df[\"h3_index\"] != TARGET_HEX]"
   ]
  },
  {
   "cell_type": "code",
   "execution_count": null,
   "id": "d029768a-ed68-4979-aa9c-61b878bc78bb",
   "metadata": {},
   "outputs": [],
   "source": [
    "df_filtered[[\"h3_index\", \"distance\"]].sort_values(by=\"distance\", ascending=False)"
   ]
  },
  {
   "cell_type": "code",
   "execution_count": null,
   "id": "d8324432-ec5d-4b30-bd8b-009d85895bde",
   "metadata": {},
   "outputs": [],
   "source": []
  }
 ],
 "metadata": {
  "kernelspec": {
   "display_name": "Python 3 (ipykernel)",
   "language": "python",
   "name": "python3"
  },
  "language_info": {
   "codemirror_mode": {
    "name": "ipython",
    "version": 3
   },
   "file_extension": ".py",
   "mimetype": "text/x-python",
   "name": "python",
   "nbconvert_exporter": "python",
   "pygments_lexer": "ipython3",
   "version": "3.12.10"
  }
 },
 "nbformat": 4,
 "nbformat_minor": 5
}
