{
 "cells": [
  {
   "cell_type": "code",
   "execution_count": null,
   "id": "78c1724c-005f-47ed-9b55-e99f564caf7e",
   "metadata": {},
   "outputs": [],
   "source": [
    "from sqlalchemy import create_engine, text\n",
    "import db_login\n",
    "import pandas as pd\n",
    "import h3"
   ]
  },
  {
   "cell_type": "markdown",
   "id": "1668172b-d934-4933-bd6d-556ce971fe34",
   "metadata": {},
   "source": [
    "## Settings"
   ]
  },
  {
   "cell_type": "code",
   "execution_count": null,
   "id": "a4102983-4f95-462d-aacc-510829ae7a5a",
   "metadata": {},
   "outputs": [],
   "source": [
    "OSM_ID = 8269826\n",
    "MAP_HEX_SIZE = 7\n",
    "# List of H3 hex IDs or None\n",
    "EXCLUDED_TARGET_HEXES = [\n",
    "    h3.latlng_to_cell(50.2646, 18.975, MAP_HEX_SIZE),\n",
    "    h3.latlng_to_cell(50.3291, 19.2312, MAP_HEX_SIZE),\n",
    "]\n",
    "COMMENT = \"artificial_min\" # String or None\n",
    "# List of dates for inference in the the \"YYYY-mm-DD\" format or None\n",
    "SELECTED_DATES = [\n",
    "    \"2023-02-27\",\n",
    "    \"2023-03-23\",\n",
    "    \"2023-08-22\",\n",
    "    \"2023-10-19\",\n",
    "]\n",
    "ARTIFICIAL_MIN_HEXES = [\n",
    "    h3.latlng_to_cell(50.2444, 18.4376, MAP_HEX_SIZE),\n",
    "    h3.latlng_to_cell(50.0394, 19.1668, MAP_HEX_SIZE),\n",
    "]"
   ]
  },
  {
   "cell_type": "markdown",
   "id": "e6d9163a-4324-499b-9bf2-2f84d253a690",
   "metadata": {},
   "source": [
    "## Database connection"
   ]
  },
  {
   "cell_type": "code",
   "execution_count": null,
   "id": "67a24968-8378-47c2-a807-df7c95d763ad",
   "metadata": {},
   "outputs": [],
   "source": [
    "conn_template = \"mysql+pymysql://{user}:{password}@{host}:{port}/{database}\".format\n",
    "conn = conn_template(\n",
    "    user=db_login.user,\n",
    "    password=db_login.passwd,\n",
    "    host=db_login.host,\n",
    "    port=int(db_login.port),\n",
    "    database=db_login.db,\n",
    ")\n",
    "engine = create_engine(conn)"
   ]
  },
  {
   "cell_type": "markdown",
   "id": "565f66da-95d2-403d-9cd4-c360aed49600",
   "metadata": {},
   "source": [
    "## Get meteo data"
   ]
  },
  {
   "cell_type": "code",
   "execution_count": null,
   "id": "be15fbb5-f37e-48cc-b292-163e6940ac2a",
   "metadata": {},
   "outputs": [],
   "source": [
    "query_meteo = \"\"\"\n",
    "SELECT \n",
    "    timestamp_utc,\n",
    "    temperature,\n",
    "    relative_humidity,\n",
    "    pressure,\n",
    "    dew_point,\n",
    "    precipitation,\n",
    "    wind_u,\n",
    "    wind_v\n",
    "FROM meteo.ERA5\n",
    "\"\"\"\n",
    "\n",
    "df_meteo = pd.read_sql_query(query_meteo, engine)\n",
    "df_meteo.head()"
   ]
  },
  {
   "cell_type": "markdown",
   "id": "d62b0950-15ce-4b6b-82ba-9cd230698f35",
   "metadata": {},
   "source": [
    "## Get traffic data"
   ]
  },
  {
   "cell_type": "code",
   "execution_count": null,
   "id": "2c2659cc-c243-43e8-b6ab-a3b4849344ea",
   "metadata": {},
   "outputs": [],
   "source": [
    "query_traffic = \"\"\"\n",
    "SELECT timestamp_utc, daily_fraction, yearly_mean_fraction\n",
    "FROM traffic.SCPR\n",
    "\"\"\"\n",
    "\n",
    "df_traffic = pd.read_sql_query(query_traffic, engine)\n",
    "df_traffic.rename(\n",
    "    columns={\"daily_fraction\": \"traffic_daily_fraction\", \"yearly_mean_fraction\": \"traffic_yearly_mean_fraction\"},\n",
    "    inplace=True,\n",
    ")\n",
    "df_traffic.head()"
   ]
  },
  {
   "cell_type": "markdown",
   "id": "9d0dd63f-d449-4ed6-8171-1a3c03a141d8",
   "metadata": {},
   "source": [
    "## Get tree cover density"
   ]
  },
  {
   "cell_type": "code",
   "execution_count": null,
   "id": "daf92288-3919-495e-9021-1b4d444ec3eb",
   "metadata": {},
   "outputs": [],
   "source": [
    "query_tree_cover = \"\"\"\n",
    "SELECT tcd.h3_index, tcd.tree_cover_density\n",
    "FROM clms.tree_cover_density tcd\n",
    "INNER JOIN (\n",
    "    SELECT h3_index\n",
    "    FROM h3_maps.hex_%(hex_size)s\n",
    "    WHERE osm_id = %(osm_id)s\n",
    ") AS hex_map\n",
    "ON tcd.h3_index=hex_map.h3_index;\n",
    "\"\"\""
   ]
  },
  {
   "cell_type": "code",
   "execution_count": null,
   "id": "9513f855-bc80-4db5-b8e8-7e386da21709",
   "metadata": {},
   "outputs": [],
   "source": [
    "df_tree_cover = pd.read_sql_query(query_tree_cover, engine, params={\"hex_size\": MAP_HEX_SIZE, \"osm_id\": OSM_ID})\n",
    "df_tree_cover.head()"
   ]
  },
  {
   "cell_type": "code",
   "execution_count": null,
   "id": "1360674a-5dd8-4426-8912-019ff2648cfe",
   "metadata": {},
   "outputs": [],
   "source": [
    "df_tree_cover[\"tree_cover\"] = (df_tree_cover[\"tree_cover_density\"] / 100).round(3)\n",
    "df_tree_cover.drop(columns=[\"tree_cover_density\"], inplace=True)\n",
    "df_tree_cover.head()"
   ]
  },
  {
   "cell_type": "markdown",
   "id": "afcfc52d-1733-4826-8022-3b2c6bd8492a",
   "metadata": {},
   "source": [
    "## Get grassland"
   ]
  },
  {
   "cell_type": "code",
   "execution_count": null,
   "id": "7774608e-6563-4ed2-a6e0-7d39b8c2f068",
   "metadata": {},
   "outputs": [],
   "source": [
    "query_grassland = \"\"\"\n",
    "SELECT grs.h3_index, grs.grassland, grs.other\n",
    "FROM clms.grassland grs\n",
    "INNER JOIN (\n",
    "    SELECT h3_index\n",
    "    FROM h3_maps.hex_%(hex_size)s\n",
    "    WHERE osm_id = %(osm_id)s\n",
    ") AS hex_map\n",
    "ON grs.h3_index=hex_map.h3_index;\n",
    "\"\"\""
   ]
  },
  {
   "cell_type": "code",
   "execution_count": null,
   "id": "097e1018-590f-44c5-b36e-87f7e1e491ce",
   "metadata": {},
   "outputs": [],
   "source": [
    "df_grassland = pd.read_sql_query(query_grassland, engine, params={\"hex_size\": MAP_HEX_SIZE, \"osm_id\": OSM_ID})\n",
    "df_grassland.head()"
   ]
  },
  {
   "cell_type": "code",
   "execution_count": null,
   "id": "4e834183-fa6c-4f2a-aaec-5edf2fd9ceb5",
   "metadata": {},
   "outputs": [],
   "source": [
    "cols_to_sum = df_grassland.columns.difference([\"h3_index\"])\n",
    "df_grassland[\"sum\"] = df_grassland[cols_to_sum].sum(axis=1)\n",
    "df_grassland.head()"
   ]
  },
  {
   "cell_type": "code",
   "execution_count": null,
   "id": "7f69f8a3-c79b-40f5-b031-ef47e913fad9",
   "metadata": {},
   "outputs": [],
   "source": [
    "cols_to_normalize = df_grassland.columns.difference([\"h3_index\", \"sum\"])\n",
    "df_grassland[cols_to_normalize] = df_grassland[cols_to_normalize].div(df_grassland[\"sum\"], axis=0)\n",
    "df_grassland[cols_to_normalize] = df_grassland[cols_to_normalize].round(4)\n",
    "df_grassland.drop(columns=[\"sum\", \"other\"], inplace=True)\n",
    "df_grassland.head()"
   ]
  },
  {
   "cell_type": "markdown",
   "id": "bf8a6bec-7b92-44b6-a0ce-9fe94918d22b",
   "metadata": {},
   "source": [
    "## Get population"
   ]
  },
  {
   "cell_type": "code",
   "execution_count": null,
   "id": "452d3510-c8ef-4a41-bb28-cfb8c590bab3",
   "metadata": {},
   "outputs": [],
   "source": [
    "query_population = \"\"\"\n",
    "SELECT pop.h3_index, pop.population\n",
    "FROM ghsl.population pop\n",
    "INNER JOIN (\n",
    "    SELECT h3_index\n",
    "    FROM h3_maps.hex_%(hex_size)s\n",
    "    WHERE osm_id = %(osm_id)s\n",
    ") AS hex_map\n",
    "ON pop.h3_index=hex_map.h3_index;\n",
    "\"\"\""
   ]
  },
  {
   "cell_type": "code",
   "execution_count": null,
   "id": "c18b9061-707e-464e-b463-2a682353bfcd",
   "metadata": {},
   "outputs": [],
   "source": [
    "df_population = pd.read_sql_query(query_population, engine, params={\"hex_size\": MAP_HEX_SIZE, \"osm_id\": OSM_ID})\n",
    "df_population.head()"
   ]
  },
  {
   "cell_type": "code",
   "execution_count": null,
   "id": "07a45213-d8c2-43a7-9a35-d05396b96e11",
   "metadata": {},
   "outputs": [],
   "source": [
    "def calc_pop_density(population, h3_index):\n",
    "    pop_density = population / h3.cell_area(h3_index)\n",
    "\n",
    "    return pop_density"
   ]
  },
  {
   "cell_type": "code",
   "execution_count": null,
   "id": "2cff8e4a-900e-4602-86b2-4291045a1ba3",
   "metadata": {},
   "outputs": [],
   "source": [
    "df_population[\"population_density\"] = df_population.apply(lambda row: calc_pop_density(row.population, row.h3_index), axis=1).round(2)\n",
    "df_population.drop(columns=[\"population\"], inplace=True)\n",
    "df_population.head()"
   ]
  },
  {
   "cell_type": "markdown",
   "id": "d8a55e09-f7da-4b44-961a-656a25c2fdaf",
   "metadata": {},
   "source": [
    "## Get built-up characteristic"
   ]
  },
  {
   "cell_type": "code",
   "execution_count": null,
   "id": "b41bd4c8-4080-4ba0-b48e-1d52f85e0e7f",
   "metadata": {},
   "outputs": [],
   "source": [
    "query_builtup = \"\"\"\n",
    "SELECT\n",
    "    bup.h3_index,\n",
    "    bup.low_vegetation,\n",
    "    bup.medium_vegetation,\n",
    "    bup.high_vegetation,\n",
    "    bup.water,\n",
    "    bup.road,\n",
    "    bup.residential_1,\n",
    "    bup.residential_2,\n",
    "    bup.residential_3,\n",
    "    bup.residential_4,\n",
    "    bup.residential_5,\n",
    "    bup.`non-residential_1`,\n",
    "    bup.`non-residential_2`,\n",
    "    bup.`non-residential_3`,\n",
    "    bup.`non-residential_4`,\n",
    "    bup.`non-residential_5`,\n",
    "    bup.other\n",
    "FROM ghsl.builtup_c bup\n",
    "INNER JOIN (\n",
    "    SELECT h3_index\n",
    "    FROM h3_maps.hex_%(hex_size)s\n",
    "    WHERE osm_id = %(osm_id)s\n",
    ") AS hex_map\n",
    "ON bup.h3_index=hex_map.h3_index;\n",
    "\"\"\""
   ]
  },
  {
   "cell_type": "code",
   "execution_count": null,
   "id": "0fcc4bb9-9740-4715-bb3d-6847e1fc9ea5",
   "metadata": {},
   "outputs": [],
   "source": [
    "df_builtup = pd.read_sql_query(query_builtup, engine, params={\"hex_size\": MAP_HEX_SIZE, \"osm_id\": OSM_ID})\n",
    "df_builtup.rename(columns={\"other\": \"other_builtup\"}, inplace=True)\n",
    "df_builtup.head()"
   ]
  },
  {
   "cell_type": "code",
   "execution_count": null,
   "id": "be6d291e-eb75-4023-bf4b-64f6eb138e0a",
   "metadata": {},
   "outputs": [],
   "source": [
    "cols_to_sum = df_builtup.columns.difference([\"h3_index\"])\n",
    "df_builtup[\"sum\"] = df_builtup[cols_to_sum].sum(axis=1)\n",
    "df_builtup.head()"
   ]
  },
  {
   "cell_type": "code",
   "execution_count": null,
   "id": "2378d5eb-850e-4e54-901e-2c428d4f1211",
   "metadata": {},
   "outputs": [],
   "source": [
    "cols_to_normalize = df_builtup.columns.difference([\"h3_index\", \"sum\"])\n",
    "df_builtup[cols_to_normalize] = df_builtup[cols_to_normalize].div(df_builtup[\"sum\"], axis=0)\n",
    "df_builtup[cols_to_normalize] = df_builtup[cols_to_normalize].round(4)\n",
    "df_builtup.drop(columns=[\"sum\", \"other_builtup\"], inplace=True)\n",
    "df_builtup.head()"
   ]
  },
  {
   "cell_type": "markdown",
   "id": "ffa5623c-eec4-49c0-bbf9-8594a1632b8a",
   "metadata": {},
   "source": [
    "## Get heat island data"
   ]
  },
  {
   "cell_type": "code",
   "execution_count": null,
   "id": "c82d85d4-ee67-4141-b77a-78050d281d58",
   "metadata": {},
   "outputs": [],
   "source": [
    "query_heat = \"\"\"\n",
    "SELECT hi.h3_index, hi.temperature_mean AS temperature_anomaly\n",
    "FROM meteo.heat_islands hi\n",
    "INNER JOIN (\n",
    "    SELECT h3_index\n",
    "    FROM h3_maps.hex_%(hex_size)s\n",
    "    WHERE osm_id = %(osm_id)s\n",
    ") AS hex_map\n",
    "ON hi.h3_index=hex_map.h3_index;\n",
    "\"\"\""
   ]
  },
  {
   "cell_type": "code",
   "execution_count": null,
   "id": "6b760815-1294-47a8-b2f7-bf576ae6a44a",
   "metadata": {},
   "outputs": [],
   "source": [
    "df_heat = pd.read_sql_query(query_heat, engine, params={\"hex_size\": MAP_HEX_SIZE, \"osm_id\": OSM_ID})\n",
    "df_heat.head()"
   ]
  },
  {
   "cell_type": "markdown",
   "id": "20385d4b-9c77-496a-b2ed-3048c4bcc204",
   "metadata": {},
   "source": [
    "## Get NO2 concentrations from Sentinel-5P"
   ]
  },
  {
   "cell_type": "code",
   "execution_count": null,
   "id": "c7d6b11c-94a6-4f3c-af4b-86d835ad2028",
   "metadata": {},
   "outputs": [],
   "source": [
    "query_no2s5p = \"\"\"\n",
    "SELECT s5p.h3_index, s5p.timestamp_utc, s5p.value\n",
    "FROM air_quality.NO2_S5P s5p\n",
    "INNER JOIN (\n",
    "    SELECT h3_index\n",
    "    FROM h3_maps.hex_%(hex_size)s\n",
    "    WHERE osm_id = %(osm_id)s\n",
    ") AS hex_map\n",
    "ON s5p.h3_index=hex_map.h3_index;\n",
    "\"\"\""
   ]
  },
  {
   "cell_type": "code",
   "execution_count": null,
   "id": "538b2b0e-eda0-4d01-a99b-5075ca7098de",
   "metadata": {},
   "outputs": [],
   "source": [
    "df_no2s5p = pd.read_sql_query(query_no2s5p, engine, params={\"hex_size\": MAP_HEX_SIZE, \"osm_id\": OSM_ID})\n",
    "df_no2s5p.rename(columns={\"value\": \"no2_s5p\"}, inplace=True)\n",
    "df_no2s5p[\"timestamp_utc\"] = pd.to_datetime(df_no2s5p[\"timestamp_utc\"])\n",
    "df_no2s5p[\"timestamp_utc\"] =df_no2s5p[\"timestamp_utc\"] + pd.to_timedelta(\"12:00:00\")\n",
    "df_no2s5p.head()"
   ]
  },
  {
   "cell_type": "code",
   "execution_count": null,
   "id": "b30a68c9-7874-46e9-a242-aeea582cb27c",
   "metadata": {},
   "outputs": [],
   "source": [
    "df_no2s5p[\"no2_anomaly\"] = df_no2s5p[\"no2_s5p\"] - df_no2s5p.groupby(\"timestamp_utc\")[\"no2_s5p\"].transform(\"mean\")\n",
    "df_no2s5p.head()"
   ]
  },
  {
   "cell_type": "code",
   "execution_count": null,
   "id": "c39dff5d-37a4-475c-901f-6899d4a650fd",
   "metadata": {},
   "outputs": [],
   "source": [
    "df_no2s5p.drop(columns=[\"timestamp_utc\", \"no2_s5p\"], inplace=True)"
   ]
  },
  {
   "cell_type": "code",
   "execution_count": null,
   "id": "e743e921-6bcf-469b-8bea-fb0044d61232",
   "metadata": {},
   "outputs": [],
   "source": [
    "df_no2s5p = df_no2s5p.groupby(by=[\"h3_index\"], as_index=False).mean()"
   ]
  },
  {
   "cell_type": "markdown",
   "id": "eb4ccf91-95d2-4eef-b1d9-65022682cb36",
   "metadata": {},
   "source": [
    "## Get NO2 concentrations from GIOŚ"
   ]
  },
  {
   "cell_type": "code",
   "execution_count": null,
   "id": "87062ab3-c6f5-4158-b762-0ed37d96efdf",
   "metadata": {},
   "outputs": [],
   "source": [
    "query_no2gios = \"\"\"\n",
    "SELECT stations.h3_index, gios.timestamp_utc, gios.value\n",
    "FROM air_quality.NO2_GIOS gios\n",
    "INNER JOIN (\n",
    "\tSELECT giosmeta.station_id, hex_map.h3_index\n",
    "\tFROM air_quality.gios_metadata giosmeta\n",
    "\tINNER JOIN (\n",
    "\t    SELECT h3_index\n",
    "\t    FROM h3_maps.hex_%(hex_size)s\n",
    "\t    WHERE osm_id = %(osm_id)s\n",
    "\t) AS hex_map\n",
    "\tON giosmeta.hex_%(hex_size)s=hex_map.h3_index\n",
    ") AS stations\n",
    "ON gios.station_id=stations.station_id;\n",
    "\"\"\""
   ]
  },
  {
   "cell_type": "code",
   "execution_count": null,
   "id": "e6409b21-f32a-4baf-a035-ea660ee21fae",
   "metadata": {},
   "outputs": [],
   "source": [
    "df_no2gios = pd.read_sql_query(query_no2gios, engine, params={\"hex_size\": MAP_HEX_SIZE, \"osm_id\": OSM_ID})\n",
    "df_no2gios.rename(columns={\"value\": \"no2_gios\"}, inplace=True)\n",
    "df_no2gios.head()"
   ]
  },
  {
   "cell_type": "code",
   "execution_count": null,
   "id": "21afcc68-f9b1-48e9-9a77-dfa8bd665b46",
   "metadata": {},
   "outputs": [],
   "source": [
    "df_no2gios[\"timestamp_utc\"] = pd.to_datetime(df_no2gios[\"timestamp_utc\"])\n",
    "df_no2gios[\"date\"] = df_no2gios[\"timestamp_utc\"].dt.date\n",
    "df_no2gios[\"no2_gios\"] = df_no2gios.groupby(\"date\")[\"no2_gios\"].transform(\n",
    "    lambda row: row.fillna(row.mean())\n",
    ")\n",
    "df_no2gios.drop(columns=[\"date\"], inplace=True)\n",
    "df_no2gios.head()"
   ]
  },
  {
   "cell_type": "code",
   "execution_count": null,
   "id": "73717e6d-cd29-43a9-8cd6-bdfe6d43dc6b",
   "metadata": {},
   "outputs": [],
   "source": [
    "df_no2gios.dropna(inplace=True)"
   ]
  },
  {
   "cell_type": "code",
   "execution_count": null,
   "id": "ea075ebd-d015-4774-8efc-0e617709900d",
   "metadata": {},
   "outputs": [],
   "source": [
    "df_no2gios_excl = df_no2gios[df_no2gios[\"h3_index\"].isin(EXCLUDED_TARGET_HEXES)]"
   ]
  },
  {
   "cell_type": "code",
   "execution_count": null,
   "id": "245f4783-a4cb-4477-9e9e-56f313d6c217",
   "metadata": {},
   "outputs": [],
   "source": [
    "df_no2gios = df_no2gios[~df_no2gios[\"h3_index\"].isin(EXCLUDED_TARGET_HEXES)]"
   ]
  },
  {
   "cell_type": "code",
   "execution_count": null,
   "id": "a6ab98fd-84fa-424a-898b-ffd452509d80",
   "metadata": {},
   "outputs": [],
   "source": [
    "if len(ARTIFICIAL_MIN_HEXES) > 0:\n",
    "    min_values = df_no2gios.groupby(\"timestamp_utc\")[\"no2_gios\"].min().reset_index()\n",
    "    \n",
    "    artificial_rows = []\n",
    "    for hex_id in ARTIFICIAL_MIN_HEXES:\n",
    "        df_temp = min_values.copy()\n",
    "        df_temp[\"h3_index\"] = hex_id\n",
    "        artificial_rows.append(df_temp)\n",
    "    \n",
    "    artificial_data = pd.concat(artificial_rows, ignore_index=True)\n",
    "    \n",
    "    artificial_data = artificial_data[[\"h3_index\", \"timestamp_utc\", \"no2_gios\"]]\n",
    "    df_no2gios = pd.concat([df_no2gios, artificial_data], ignore_index=True)"
   ]
  },
  {
   "cell_type": "markdown",
   "id": "3bd5015e-0b97-4581-b067-f8fa56a1bdbb",
   "metadata": {},
   "source": [
    "## Merge data\n",
    "\n",
    "### Spatial data"
   ]
  },
  {
   "cell_type": "code",
   "execution_count": null,
   "id": "34bf66b7-de85-4339-8972-9e2beba8da4c",
   "metadata": {},
   "outputs": [],
   "source": [
    "df_spatial = pd.merge(df_tree_cover, df_grassland, on=\"h3_index\", how=\"outer\")\n",
    "df_spatial = pd.merge(df_spatial, df_population, on=\"h3_index\", how=\"outer\")\n",
    "df_spatial = pd.merge(df_spatial, df_builtup, on=\"h3_index\", how=\"outer\")\n",
    "df_spatial = pd.merge(df_spatial, df_heat, on=\"h3_index\", how=\"outer\")\n",
    "df_spatial = pd.merge(df_spatial, df_no2s5p, on=\"h3_index\", how=\"outer\")\n",
    "df_spatial.fillna(0, inplace=True)\n",
    "df_spatial.head()"
   ]
  },
  {
   "cell_type": "code",
   "execution_count": null,
   "id": "bb956c3e-bbd1-4f73-ba96-920628fc144c",
   "metadata": {},
   "outputs": [],
   "source": [
    "df_spatial.to_csv(f\"../data/spatial_dataset_osm_{OSM_ID}_hex_{MAP_HEX_SIZE}.csv\", index=False)"
   ]
  },
  {
   "cell_type": "markdown",
   "id": "e68a82c5-0e8e-4f58-9202-06df9c2f9f7b",
   "metadata": {},
   "source": [
    "### Temporal data"
   ]
  },
  {
   "cell_type": "code",
   "execution_count": null,
   "id": "a5b7b6da-4482-4274-8c51-48062b5c3a8f",
   "metadata": {},
   "outputs": [],
   "source": [
    "df_temporal = pd.merge(df_meteo, df_traffic, on=\"timestamp_utc\", how=\"outer\")\n",
    "df_temporal.fillna(0, inplace=True)\n",
    "df_temporal.head()"
   ]
  },
  {
   "cell_type": "markdown",
   "id": "a438aa31-ca83-47c7-9f19-53d16a043dc5",
   "metadata": {},
   "source": [
    "### Train dataset\n",
    "\n",
    "Feature parameters for all dates and hexes with target data (without the ones excluded for testing)."
   ]
  },
  {
   "cell_type": "code",
   "execution_count": null,
   "id": "85b1e4d8-1e5f-4925-82bb-ad9b2d511f0b",
   "metadata": {},
   "outputs": [],
   "source": [
    "df_train_NO2 = pd.merge(df_no2gios, df_spatial, on=\"h3_index\", how=\"left\")\n",
    "df_train_NO2.fillna(0, inplace=True)\n",
    "df_train_NO2.head()"
   ]
  },
  {
   "cell_type": "code",
   "execution_count": null,
   "id": "6bf13436-2310-4d93-bd73-197748aa66cc",
   "metadata": {},
   "outputs": [],
   "source": [
    "df_train_NO2 = pd.merge(df_train_NO2, df_temporal, on=\"timestamp_utc\", how=\"left\")\n",
    "df_train_NO2.fillna(0, inplace=True)\n",
    "df_train_NO2.head()"
   ]
  },
  {
   "cell_type": "code",
   "execution_count": null,
   "id": "17007389-54cb-4e2b-afe9-e006940dcc0d",
   "metadata": {},
   "outputs": [],
   "source": [
    "df_train_NO2[\"temperature_trend_3h\"] = df_train_NO2[\"temperature\"] - df_train_NO2[\"temperature\"].shift(3)\n",
    "df_train_NO2[\"temperature_trend_3h\"] = df_train_NO2[\"temperature_trend_3h\"].round(1)\n",
    "df_train_NO2[\"temperature_trend_6h\"] = df_train_NO2[\"temperature\"] - df_train_NO2[\"temperature\"].shift(6)\n",
    "df_train_NO2[\"temperature_trend_6h\"] = df_train_NO2[\"temperature_trend_6h\"].round(1)\n",
    "df_train_NO2[\"relative_humidity_trend_3h\"] = df_train_NO2[\"relative_humidity\"] - df_train_NO2[\"relative_humidity\"].shift(3)\n",
    "df_train_NO2[\"relative_humidity_trend_3h\"] = df_train_NO2[\"relative_humidity_trend_3h\"].round(1)\n",
    "df_train_NO2[\"relative_humidity_trend_6h\"] = df_train_NO2[\"relative_humidity\"] - df_train_NO2[\"relative_humidity\"].shift(6)\n",
    "df_train_NO2[\"relative_humidity_trend_6h\"] = df_train_NO2[\"relative_humidity_trend_6h\"].round(1)\n",
    "df_train_NO2[\"pressure_trend_3h\"] = df_train_NO2[\"pressure\"] - df_train_NO2[\"pressure\"].shift(3)\n",
    "df_train_NO2[\"pressure_trend_3h\"] = df_train_NO2[\"pressure_trend_3h\"].round(1)\n",
    "df_train_NO2[\"pressure_trend_6h\"] = df_train_NO2[\"pressure\"] - df_train_NO2[\"pressure\"].shift(6)\n",
    "df_train_NO2[\"pressure_trend_6h\"] = df_train_NO2[\"pressure_trend_6h\"].round(1)\n",
    "df_train_NO2[\"precipitation_trend_3h\"] = df_train_NO2[\"precipitation\"] - df_train_NO2[\"precipitation\"].shift(3)\n",
    "df_train_NO2[\"precipitation_trend_3h\"] = df_train_NO2[\"precipitation_trend_3h\"].round(3)\n",
    "df_train_NO2[\"precipitation_trend_6h\"] = df_train_NO2[\"precipitation\"] - df_train_NO2[\"precipitation\"].shift(6)\n",
    "df_train_NO2[\"precipitation_trend_6h\"] = df_train_NO2[\"precipitation_trend_6h\"].round(3)\n",
    "df_train_NO2.fillna(0, inplace=True)\n",
    "df_train_NO2.head()"
   ]
  },
  {
   "cell_type": "markdown",
   "id": "eb47edfd-c329-4b6a-9209-34eb204af3ea",
   "metadata": {},
   "source": [
    "### Test NO2 dataset\n",
    "\n",
    "Feature parameters for all dates but only for selected test hex."
   ]
  },
  {
   "cell_type": "code",
   "execution_count": null,
   "id": "71cb6fc2-4099-4905-8689-f59fb867d6e2",
   "metadata": {},
   "outputs": [],
   "source": [
    "df_spatial_excl = df_spatial[df_spatial[\"h3_index\"].isin(EXCLUDED_TARGET_HEXES)]\n",
    "df_spatial_excl"
   ]
  },
  {
   "cell_type": "code",
   "execution_count": null,
   "id": "844545f1-76a2-49f0-b115-369688d6c809",
   "metadata": {},
   "outputs": [],
   "source": [
    "df_test_NO2 = df_spatial_excl.merge(df_temporal, how=\"cross\")\n",
    "df_test_NO2.head()"
   ]
  },
  {
   "cell_type": "code",
   "execution_count": null,
   "id": "8fd5e992-be55-4324-90e3-22e955788c96",
   "metadata": {},
   "outputs": [],
   "source": [
    "df_test_NO2[\"temperature_trend_3h\"] = df_test_NO2[\"temperature\"] - df_test_NO2[\"temperature\"].shift(3)\n",
    "df_test_NO2[\"temperature_trend_3h\"] = df_test_NO2[\"temperature_trend_3h\"].round(1)\n",
    "df_test_NO2[\"temperature_trend_6h\"] = df_test_NO2[\"temperature\"] - df_test_NO2[\"temperature\"].shift(6)\n",
    "df_test_NO2[\"temperature_trend_6h\"] = df_test_NO2[\"temperature_trend_6h\"].round(1)\n",
    "df_test_NO2[\"relative_humidity_trend_3h\"] = df_test_NO2[\"relative_humidity\"] - df_test_NO2[\"relative_humidity\"].shift(3)\n",
    "df_test_NO2[\"relative_humidity_trend_3h\"] = df_test_NO2[\"relative_humidity_trend_3h\"].round(1)\n",
    "df_test_NO2[\"relative_humidity_trend_6h\"] = df_test_NO2[\"relative_humidity\"] - df_test_NO2[\"relative_humidity\"].shift(6)\n",
    "df_test_NO2[\"relative_humidity_trend_6h\"] = df_test_NO2[\"relative_humidity_trend_6h\"].round(1)\n",
    "df_test_NO2[\"pressure_trend_3h\"] = df_test_NO2[\"pressure\"] - df_test_NO2[\"pressure\"].shift(3)\n",
    "df_test_NO2[\"pressure_trend_3h\"] = df_test_NO2[\"pressure_trend_3h\"].round(1)\n",
    "df_test_NO2[\"pressure_trend_6h\"] = df_test_NO2[\"pressure\"] - df_test_NO2[\"pressure\"].shift(6)\n",
    "df_test_NO2[\"pressure_trend_6h\"] = df_test_NO2[\"pressure_trend_6h\"].round(1)\n",
    "df_test_NO2[\"precipitation_trend_3h\"] = df_test_NO2[\"precipitation\"] - df_test_NO2[\"precipitation\"].shift(3)\n",
    "df_test_NO2[\"precipitation_trend_3h\"] = df_test_NO2[\"precipitation_trend_3h\"].round(3)\n",
    "df_test_NO2[\"precipitation_trend_6h\"] = df_test_NO2[\"precipitation\"] - df_test_NO2[\"precipitation\"].shift(6)\n",
    "df_test_NO2[\"precipitation_trend_6h\"] = df_test_NO2[\"precipitation_trend_6h\"].round(3)\n",
    "df_test_NO2.fillna(0, inplace=True)\n",
    "df_test_NO2.head()"
   ]
  },
  {
   "cell_type": "markdown",
   "id": "b690a8a9-fa35-44a1-a774-846e2234458c",
   "metadata": {},
   "source": [
    "### Inference dataset\n",
    "\n",
    "Feature parameters for all hexes in the area but limited to selected dates."
   ]
  },
  {
   "cell_type": "code",
   "execution_count": null,
   "id": "212eb2fe-8e19-4c7e-9306-9651dc92b711",
   "metadata": {},
   "outputs": [],
   "source": [
    "df_temporal_selected = df_temporal[df_temporal[\"timestamp_utc\"].dt.strftime(\"%Y-%m-%d\").isin(SELECTED_DATES)]"
   ]
  },
  {
   "cell_type": "code",
   "execution_count": null,
   "id": "a947a1a0-7e74-47d8-a062-69089bd5abf3",
   "metadata": {},
   "outputs": [],
   "source": [
    "df_inference = df_spatial.merge(df_temporal_selected, how=\"cross\")"
   ]
  },
  {
   "cell_type": "code",
   "execution_count": null,
   "id": "0687b36d-2cb4-4255-94c5-f5aec529e3f6",
   "metadata": {},
   "outputs": [],
   "source": [
    "df_inference[\"temperature_trend_3h\"] = df_inference[\"temperature\"] - df_inference[\"temperature\"].shift(3)\n",
    "df_inference[\"temperature_trend_3h\"] = df_inference[\"temperature_trend_3h\"].round(1)\n",
    "df_inference[\"temperature_trend_6h\"] = df_inference[\"temperature\"] - df_inference[\"temperature\"].shift(6)\n",
    "df_inference[\"temperature_trend_6h\"] = df_inference[\"temperature_trend_6h\"].round(1)\n",
    "df_inference[\"relative_humidity_trend_3h\"] = df_inference[\"relative_humidity\"] - df_inference[\"relative_humidity\"].shift(3)\n",
    "df_inference[\"relative_humidity_trend_3h\"] = df_inference[\"relative_humidity_trend_3h\"].round(1)\n",
    "df_inference[\"relative_humidity_trend_6h\"] = df_inference[\"relative_humidity\"] - df_inference[\"relative_humidity\"].shift(6)\n",
    "df_inference[\"relative_humidity_trend_6h\"] = df_inference[\"relative_humidity_trend_6h\"].round(1)\n",
    "df_inference[\"pressure_trend_3h\"] = df_inference[\"pressure\"] - df_inference[\"pressure\"].shift(3)\n",
    "df_inference[\"pressure_trend_3h\"] = df_inference[\"pressure_trend_3h\"].round(1)\n",
    "df_inference[\"pressure_trend_6h\"] = df_inference[\"pressure\"] - df_inference[\"pressure\"].shift(6)\n",
    "df_inference[\"pressure_trend_6h\"] = df_inference[\"pressure_trend_6h\"].round(1)\n",
    "df_inference[\"precipitation_trend_3h\"] = df_inference[\"precipitation\"] - df_inference[\"precipitation\"].shift(3)\n",
    "df_inference[\"precipitation_trend_3h\"] = df_inference[\"precipitation_trend_3h\"].round(3)\n",
    "df_inference[\"precipitation_trend_6h\"] = df_inference[\"precipitation\"] - df_inference[\"precipitation\"].shift(6)\n",
    "df_inference[\"precipitation_trend_6h\"] = df_inference[\"precipitation_trend_6h\"].round(3)\n",
    "df_inference.fillna(0, inplace=True)\n",
    "df_inference.head()"
   ]
  },
  {
   "cell_type": "markdown",
   "id": "0698865c-1a55-42fe-a73f-12542fc64003",
   "metadata": {},
   "source": [
    "## Check for missing data"
   ]
  },
  {
   "cell_type": "code",
   "execution_count": null,
   "id": "0e94a424-8191-47eb-b80b-8a35fcc79a26",
   "metadata": {},
   "outputs": [],
   "source": [
    "df_train_NO2[df_train_NO2.isna().any(axis=1)]"
   ]
  },
  {
   "cell_type": "code",
   "execution_count": null,
   "id": "58c0236c-1450-4342-bb57-02af8b6f5d35",
   "metadata": {},
   "outputs": [],
   "source": [
    "df_no2gios_excl[df_no2gios_excl.isna().any(axis=1)]"
   ]
  },
  {
   "cell_type": "code",
   "execution_count": null,
   "id": "cddf29e6-acd0-4a80-9893-d4f888505147",
   "metadata": {},
   "outputs": [],
   "source": [
    "df_test_NO2[df_test_NO2.isna().any(axis=1)]"
   ]
  },
  {
   "cell_type": "code",
   "execution_count": null,
   "id": "744f7339-3382-4e98-ad97-a123820c9bc4",
   "metadata": {},
   "outputs": [],
   "source": [
    "df_inference[df_inference.isna().any(axis=1)]"
   ]
  },
  {
   "cell_type": "markdown",
   "id": "1f0d821c-4aec-4bd2-b066-1bedf1603623",
   "metadata": {},
   "source": [
    "## Export data to files"
   ]
  },
  {
   "cell_type": "code",
   "execution_count": null,
   "id": "3b7396e6-cd81-437b-aec5-07e8f8911b13",
   "metadata": {},
   "outputs": [],
   "source": [
    "base_filename = f\"../data/osm_{OSM_ID}_hex_{MAP_HEX_SIZE}.csv\"\n",
    "if COMMENT:\n",
    "    base_filename = base_filename.replace(\".csv\", f\"_{COMMENT}.csv\")"
   ]
  },
  {
   "cell_type": "code",
   "execution_count": null,
   "id": "1043ee75-3650-4877-a779-062668fb84f0",
   "metadata": {},
   "outputs": [],
   "source": [
    "df_train_NO2.to_csv(f\"NO2_train_dataset_{base_filename}\", index=False)"
   ]
  },
  {
   "cell_type": "code",
   "execution_count": null,
   "id": "2e214e67-4db7-4e59-abd8-a05d1ab87bb9",
   "metadata": {},
   "outputs": [],
   "source": [
    "df_no2gios_excl.to_csv(f\"NO2_excluded_dataset_{base_filename}\", index=False)"
   ]
  },
  {
   "cell_type": "code",
   "execution_count": null,
   "id": "11e1cc7a-44dc-478d-b0c5-c898e5d56dec",
   "metadata": {},
   "outputs": [],
   "source": [
    "df_test_NO2.to_csv(f\"NO2_test_dataset_{base_filename}\", index=False)"
   ]
  },
  {
   "cell_type": "code",
   "execution_count": null,
   "id": "b9e1f0de-22ab-41dc-b53c-2c23d2a18417",
   "metadata": {},
   "outputs": [],
   "source": [
    "df_inference.to_csv(f\"NO2_inference_dataset_{base_filename}\", index=False)"
   ]
  },
  {
   "cell_type": "code",
   "execution_count": null,
   "id": "1793c4c4-ed62-404e-ae85-92cbb5af1c7f",
   "metadata": {},
   "outputs": [],
   "source": []
  },
  {
   "cell_type": "code",
   "execution_count": null,
   "id": "a448dc82-30c7-487f-9d08-4e6fea6da1bc",
   "metadata": {},
   "outputs": [],
   "source": []
  }
 ],
 "metadata": {
  "kernelspec": {
   "display_name": "Python 3 (ipykernel)",
   "language": "python",
   "name": "python3"
  },
  "language_info": {
   "codemirror_mode": {
    "name": "ipython",
    "version": 3
   },
   "file_extension": ".py",
   "mimetype": "text/x-python",
   "name": "python",
   "nbconvert_exporter": "python",
   "pygments_lexer": "ipython3",
   "version": "3.12.10"
  }
 },
 "nbformat": 4,
 "nbformat_minor": 5
}
