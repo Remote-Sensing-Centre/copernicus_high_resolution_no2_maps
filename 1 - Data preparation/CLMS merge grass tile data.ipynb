{
 "cells": [
  {
   "cell_type": "code",
   "execution_count": null,
   "id": "58d2ccde-66da-413a-a6c1-972ddb58dbea",
   "metadata": {},
   "outputs": [],
   "source": [
    "import glob\n",
    "import pandas as pd\n",
    "from os.path import exists"
   ]
  },
  {
   "cell_type": "code",
   "execution_count": null,
   "id": "11efd042-6ad7-4b24-92d1-dd9ec37cfac3",
   "metadata": {},
   "outputs": [],
   "source": [
    "NAME_SCHEMA = r\"D:\\CLMS\\GRA_2018_010m_pl_03035_v010\\DATA\\GRA_2018*.csv\""
   ]
  },
  {
   "cell_type": "code",
   "execution_count": null,
   "id": "824ed64f-84da-4617-8454-949849b44958",
   "metadata": {},
   "outputs": [],
   "source": [
    "files = glob.glob(NAME_SCHEMA)\n",
    "files"
   ]
  },
  {
   "cell_type": "code",
   "execution_count": null,
   "id": "eead16b6-66a6-411a-88a2-359c74863422",
   "metadata": {},
   "outputs": [],
   "source": [
    "df = pd.concat((pd.read_csv(f, sep=\",\", header=None) for f in files), axis=0, ignore_index=True)\n",
    "df"
   ]
  },
  {
   "cell_type": "code",
   "execution_count": null,
   "id": "796fb9b8-0f80-44fd-b428-6982902c9a0e",
   "metadata": {},
   "outputs": [],
   "source": [
    "df = df.groupby(by=[0]).sum()\n",
    "df = df.reset_index()\n",
    "df"
   ]
  },
  {
   "cell_type": "code",
   "execution_count": null,
   "id": "46c1f657-6483-44f2-a63a-fcfef258b976",
   "metadata": {},
   "outputs": [],
   "source": [
    "OUTPUT_NAME = NAME_SCHEMA.replace(\"*.csv\", \"_MERGED.csv\")\n",
    "if exists(OUTPUT_NAME):\n",
    "    print(\"Output file was already generated\")\n",
    "else:\n",
    "    df.to_csv(OUTPUT_NAME, header=False, index=False)"
   ]
  },
  {
   "cell_type": "code",
   "execution_count": null,
   "id": "18a8d08f-c3c7-48a4-bc68-78123f009ece",
   "metadata": {},
   "outputs": [],
   "source": []
  }
 ],
 "metadata": {
  "kernelspec": {
   "display_name": "Python 3 (ipykernel)",
   "language": "python",
   "name": "python3"
  },
  "language_info": {
   "codemirror_mode": {
    "name": "ipython",
    "version": 3
   },
   "file_extension": ".py",
   "mimetype": "text/x-python",
   "name": "python",
   "nbconvert_exporter": "python",
   "pygments_lexer": "ipython3",
   "version": "3.12.10"
  }
 },
 "nbformat": 4,
 "nbformat_minor": 5
}
