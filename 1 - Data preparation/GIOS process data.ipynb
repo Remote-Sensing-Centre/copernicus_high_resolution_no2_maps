{
 "cells": [
  {
   "cell_type": "code",
   "execution_count": null,
   "id": "710e05b5-c6f1-4b79-bd2f-805a85378d0d",
   "metadata": {},
   "outputs": [],
   "source": [
    "import pandas as pd"
   ]
  },
  {
   "cell_type": "code",
   "execution_count": null,
   "id": "3c464833-27b4-4d27-8a81-887d3e311c8a",
   "metadata": {},
   "outputs": [],
   "source": [
    "INPUT_FILE = \"2023_O3_1g.csv\"\n",
    "OUTPUT_FILE = \"2023_O3_1g_long.csv\""
   ]
  },
  {
   "cell_type": "raw",
   "id": "f0a55b49-8ad3-4561-aed9-6ef975dedd8f",
   "metadata": {},
   "source": [
    "INPUT_FILE = \"2023_NO2_1g.csv\""
   ]
  },
  {
   "cell_type": "code",
   "execution_count": null,
   "id": "4cb5c6a0-6d89-4c84-80c2-7597e7c1201a",
   "metadata": {},
   "outputs": [],
   "source": [
    "df = pd.read_csv(INPUT_FILE, sep=\";\", skiprows=5, encoding=\"UTF-8\", low_memory=False)\n",
    "df.head()"
   ]
  },
  {
   "cell_type": "code",
   "execution_count": null,
   "id": "c7488acc-d6e5-46a5-948c-85d039bd525f",
   "metadata": {},
   "outputs": [],
   "source": [
    "df.rename(columns={\"Kod stanowiska\": \"Czas pomiaru\"}, inplace=True)"
   ]
  },
  {
   "cell_type": "code",
   "execution_count": null,
   "id": "74d00808-5017-4136-88b7-eebb8333fddb",
   "metadata": {},
   "outputs": [],
   "source": [
    "df[\"Czas pomiaru\"] = pd.to_datetime(df[\"Czas pomiaru\"], format=\"%d.%m.%Y %H:%M\")\n",
    "df.head()"
   ]
  },
  {
   "cell_type": "code",
   "execution_count": null,
   "id": "7b5ded5f-800f-4f8f-9950-8eb4dcd6b9cd",
   "metadata": {},
   "outputs": [],
   "source": [
    "utc_range = pd.date_range(\n",
    "    start=\"2023-01-01 00:00:00\",\n",
    "    end=\"2023-12-31 23:00:00\",\n",
    "    freq=\"h\",\n",
    "    tz=\"UTC\"\n",
    ")\n",
    "\n",
    "df[\"timestamp_utc\"] = pd.DataFrame({\"timestamp_utc\": utc_range})\n",
    "df.head()"
   ]
  },
  {
   "cell_type": "code",
   "execution_count": null,
   "id": "74a76e63-c1ea-4b70-9120-cbcd0df8b3ab",
   "metadata": {},
   "outputs": [],
   "source": [
    "df.columns = [col.split(\"-\")[0] for col in df.columns]\n",
    "df.head()"
   ]
  },
  {
   "cell_type": "code",
   "execution_count": null,
   "id": "55331dec-fcac-4dab-af90-c23c79f6c191",
   "metadata": {},
   "outputs": [],
   "source": [
    "df = df.drop(columns=[\"Czas pomiaru\"])\n",
    "df = df.set_index(\"timestamp_utc\")\n",
    "df.head()"
   ]
  },
  {
   "cell_type": "code",
   "execution_count": null,
   "id": "db39630a-137f-4e0e-8257-3ab93defd9b6",
   "metadata": {},
   "outputs": [],
   "source": [
    "df_long = df.reset_index().melt(id_vars=[\"timestamp_utc\"], var_name=\"station_id\", value_name=\"value\")\n",
    "df_long.head()"
   ]
  },
  {
   "cell_type": "code",
   "execution_count": null,
   "id": "b264b718-d5af-4582-b1ad-73045e963c0d",
   "metadata": {},
   "outputs": [],
   "source": [
    "df_long[\"value\"] = df_long[\"value\"].str.replace(\",\", \".\")\n",
    "df_long[\"value\"] = df_long[\"value\"].astype(float)\n",
    "df_long.head()"
   ]
  },
  {
   "cell_type": "code",
   "execution_count": null,
   "id": "f2d17f0a-85c2-4db9-9041-9aefa6cb60f1",
   "metadata": {},
   "outputs": [],
   "source": [
    "df_long.to_csv(OUTPUT_FILE, index=False)"
   ]
  },
  {
   "cell_type": "code",
   "execution_count": null,
   "id": "66952ee6-fd71-489e-920d-f071dcaf2b98",
   "metadata": {},
   "outputs": [],
   "source": []
  }
 ],
 "metadata": {
  "kernelspec": {
   "display_name": "Python 3 (ipykernel)",
   "language": "python",
   "name": "python3"
  },
  "language_info": {
   "codemirror_mode": {
    "name": "ipython",
    "version": 3
   },
   "file_extension": ".py",
   "mimetype": "text/x-python",
   "name": "python",
   "nbconvert_exporter": "python",
   "pygments_lexer": "ipython3",
   "version": "3.12.10"
  }
 },
 "nbformat": 4,
 "nbformat_minor": 5
}
