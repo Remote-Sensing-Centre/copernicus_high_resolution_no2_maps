{
 "cells": [
  {
   "cell_type": "code",
   "execution_count": null,
   "id": "2c78ab97-e9a1-42a0-a54c-721f1e303f55",
   "metadata": {},
   "outputs": [],
   "source": [
    "import glob\n",
    "import os\n",
    "import rasterio\n",
    "import geopandas as gpd\n",
    "from rasterstats import zonal_stats\n",
    "from shapely.ops import transform as shapely_transform\n",
    "import pyproj\n",
    "from shapely.geometry import box, Polygon, MultiPolygon\n",
    "import h3\n",
    "import numpy as np"
   ]
  },
  {
   "cell_type": "code",
   "execution_count": null,
   "id": "b082a8fc-2122-472a-9af3-740f82051b74",
   "metadata": {},
   "outputs": [],
   "source": [
    "PATH = r\"D:\\CLMS\\TCD_2018_010m_pl_03035_v020\\DATA\"\n",
    "AOI = \"metropolia_gornoslasko-zaglebiowska_8269826.geojson\" # geojson or None\n",
    "MAP_HEX_SIZE = 9\n",
    "europe = pyproj.CRS(\"EPSG:3035\")\n",
    "wgs84 = pyproj.CRS(\"EPSG:4326\")\n",
    "ZONAL_STATS = [\"count\", \"mean\"]"
   ]
  },
  {
   "cell_type": "code",
   "execution_count": null,
   "id": "aeba97c0-a993-4805-b65a-57477091e80b",
   "metadata": {},
   "outputs": [],
   "source": [
    "files = glob.glob(os.path.join(PATH, \"*v020.tif\"))\n",
    "files"
   ]
  },
  {
   "cell_type": "code",
   "execution_count": null,
   "id": "4d3e21bc-6a0b-4a7d-9b7d-0b9cafa3809f",
   "metadata": {},
   "outputs": [],
   "source": [
    "def hex_to_polygon(h3_index):\n",
    "    boundary = h3.cell_to_boundary(h3_index)\n",
    "    return Polygon([(lon, lat) for lat, lon in boundary])"
   ]
  },
  {
   "cell_type": "code",
   "execution_count": null,
   "id": "70e94c69-e6a5-4f7f-93d5-a33cb521ab9a",
   "metadata": {},
   "outputs": [],
   "source": [
    "def get_hexes_for_polygon(polygon, target_hex_size=7, fill_hex_size=10):\n",
    "    polygon_points_lon_lat = polygon.exterior.coords\n",
    "    polygon_points_lat_lon = tuple(coord[::-1] for coord in polygon_points_lon_lat)\n",
    "    h3_polygon = h3.LatLngPoly(polygon_points_lat_lon)\n",
    "    fill_hexes = h3.h3shape_to_cells(h3_polygon, fill_hex_size)\n",
    "    target_hexes = {h3.cell_to_parent(h, target_hex_size) for h in fill_hexes}\n",
    "    return target_hexes"
   ]
  },
  {
   "cell_type": "code",
   "execution_count": null,
   "id": "e9c9e12b-b591-45fd-b99f-822bd9e6c572",
   "metadata": {},
   "outputs": [],
   "source": [
    "for file in files:\n",
    "    print(f\"Processing {file}\")\n",
    "    with rasterio.open(file) as src:\n",
    "        bounds = src.bounds\n",
    "        crs = src.crs\n",
    "        raster_data = src.read(1)\n",
    "        transform = src.transform\n",
    "        nodata = src.nodata\n",
    "        profile = src.profile\n",
    "        data = src.read(1)\n",
    "\n",
    "    mask = (data == nodata) | (data == 255)\n",
    "    data_clean = np.where(mask, np.nan, data)\n",
    "\n",
    "    profile.update(\n",
    "        dtype=rasterio.float32,\n",
    "        nodata=np.nan\n",
    "    )\n",
    "    \n",
    "    with rasterio.open(file.replace(\".tif\", \"_cleaned.tif\"), 'w', **profile) as dst:\n",
    "        dst.write(data_clean.astype(rasterio.float32), 1)"
   ]
  },
  {
   "cell_type": "code",
   "execution_count": null,
   "id": "5dc654d5-57f2-48cd-a492-1ac84d02b56e",
   "metadata": {},
   "outputs": [],
   "source": [
    "files = glob.glob(os.path.join(PATH, \"*_cleaned.tif\"))\n",
    "files"
   ]
  },
  {
   "cell_type": "code",
   "execution_count": null,
   "id": "2a6989df-09f8-4297-b126-737b72230f7a",
   "metadata": {},
   "outputs": [],
   "source": [
    "if AOI:\n",
    "    print(\"Generating hexes for area of interest\")\n",
    "    gdf_aoi = gpd.read_file(AOI)\n",
    "    geometry = gdf_aoi[\"geometry\"].iloc[0]\n",
    "    \n",
    "    aoi_hexes = set()\n",
    "    if isinstance(geometry, Polygon):\n",
    "        aoi_hexes = get_hexes_for_polygon(polygon=geometry, target_hex_size=MAP_HEX_SIZE)\n",
    "    elif isinstance(geometry, MultiPolygon):\n",
    "        for geom_polygon in geometry.geoms:\n",
    "            aoi_hexes.update(get_hexes_for_polygon(polygon=geom_polygon, target_hex_size=MAP_HEX_SIZE))\n",
    "    print(f\"Found {len(aoi_hexes)} hexes\")\n",
    "    \n",
    "    hex_polygons = [hex_to_polygon(h) for h in aoi_hexes]\n",
    "\n",
    "for file in files:\n",
    "    print(f\"Processing {file}\")\n",
    "    with rasterio.open(file) as src:\n",
    "        bounds = src.bounds\n",
    "        crs = src.crs\n",
    "        raster_data = src.read(1)\n",
    "        transform = src.transform\n",
    "\n",
    "    if not AOI:\n",
    "        print(\"Generating hexes for whole tile\")\n",
    "\n",
    "        project = pyproj.Transformer.from_crs(crs_from=europe, crs_to=wgs84, always_xy=True).transform\n",
    "        bbox = box(bounds.left, bounds.bottom, bounds.right, bounds.top)\n",
    "        bbox_wgs84 = shapely_transform(project, bbox)\n",
    "        bbox_coords = [(x, y) for x, y in bbox_wgs84.exterior.coords]\n",
    "        geometry = Polygon(shell=bbox_coords)\n",
    "    \n",
    "        aoi_hexes = set()\n",
    "        if isinstance(geometry, Polygon):\n",
    "            aoi_hexes = get_hexes_for_polygon(polygon=geometry, target_hex_size=MAP_HEX_SIZE)\n",
    "        elif isinstance(geometry, MultiPolygon):\n",
    "            for geom_polygon in geometry.geoms:\n",
    "                aoi_hexes.update(get_hexes_for_polygon(polygon=geom_polygon, target_hex_size=MAP_HEX_SIZE))\n",
    "        print(f\"Found {len(aoi_hexes)} hexes\")\n",
    "        \n",
    "        hex_polygons = [hex_to_polygon(h) for h in aoi_hexes]\n",
    "    \n",
    "    gdf = gpd.GeoDataFrame({\"h3_index\": list(aoi_hexes)}, geometry=hex_polygons, crs=wgs84)\n",
    "\n",
    "    gdf = gdf.to_crs(europe)\n",
    "\n",
    "    stats = zonal_stats(gdf, file, stats=ZONAL_STATS, nodata=240, geojson_out=True)\n",
    "    \n",
    "    stats_gdf = gpd.GeoDataFrame.from_features(stats)\n",
    "\n",
    "    gdf_output = stats_gdf[[\"h3_index\"] + ZONAL_STATS]\n",
    "    gdf_output = gdf_output.dropna()\n",
    "    \n",
    "    if gdf_output.size > 0:\n",
    "        gdf_output[ZONAL_STATS] = gdf_output[ZONAL_STATS].round(1)\n",
    "        \n",
    "        print(\"Exporting data to .csv file\")\n",
    "        gdf_output.to_csv(file.replace(\".tif\", \".csv\"), header=False, index=False)\n",
    "    else:\n",
    "        print(\"No data to export\")"
   ]
  },
  {
   "cell_type": "code",
   "execution_count": null,
   "id": "4f1e5612-c679-4dd3-9fd3-6b733b6a67f6",
   "metadata": {},
   "outputs": [],
   "source": []
  }
 ],
 "metadata": {
  "kernelspec": {
   "display_name": "Python 3 (ipykernel)",
   "language": "python",
   "name": "python3"
  },
  "language_info": {
   "codemirror_mode": {
    "name": "ipython",
    "version": 3
   },
   "file_extension": ".py",
   "mimetype": "text/x-python",
   "name": "python",
   "nbconvert_exporter": "python",
   "pygments_lexer": "ipython3",
   "version": "3.12.10"
  }
 },
 "nbformat": 4,
 "nbformat_minor": 5
}
