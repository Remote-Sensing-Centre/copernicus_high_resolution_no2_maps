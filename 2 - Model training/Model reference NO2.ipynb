{
 "cells": [
  {
   "cell_type": "code",
   "execution_count": null,
   "id": "b7406ad2-dc89-45b5-b71a-686f3ef4a47f",
   "metadata": {},
   "outputs": [],
   "source": [
    "import pandas as pd\n",
    "import matplotlib as mpl\n",
    "import matplotlib.pyplot as plt\n",
    "import seaborn as sns\n",
    "import scipy\n",
    "import data_analysis"
   ]
  },
  {
   "cell_type": "markdown",
   "id": "6caa9c5a-b661-4b0b-8504-6ef2dee67930",
   "metadata": {},
   "source": [
    "## Settings"
   ]
  },
  {
   "cell_type": "code",
   "execution_count": null,
   "id": "b526e24f-03cb-4bff-b4e4-61f06941c286",
   "metadata": {},
   "outputs": [],
   "source": [
    "OSM_ID = 8269826\n",
    "MAP_HEX_SIZE = 7\n",
    "COMMENT = \"artificial_min\" # String or None\n",
    "if COMMENT:\n",
    "    DATA_FILE = f\"../data/NO2_train_dataset_osm_{OSM_ID}_hex_{MAP_HEX_SIZE}_{COMMENT}.csv\"\n",
    "else:\n",
    "    DATA_FILE = f\"../data/NO2_train_dataset_osm_{OSM_ID}_hex_{MAP_HEX_SIZE}.csv\"\n",
    "SELECTED_PARAMETERS = [\n",
    "    \"tree_cover\",\n",
    "    \"grassland\",\n",
    "    \"population_density\",\n",
    "    \"low_vegetation\",\n",
    "    \"medium_vegetation\",\n",
    "    \"high_vegetation\",\n",
    "    \"road\",\n",
    "    \"residential_1\",\n",
    "    \"residential_2\",\n",
    "    \"residential_3\",\n",
    "    \"residential_4\",\n",
    "    \"non-residential_1\",\n",
    "    \"non-residential_2\",\n",
    "    \"non-residential_3\",\n",
    "    \"non-residential_4\",\n",
    "    \"temperature\",\n",
    "    \"temperature_trend_3h\",\n",
    "    \"temperature_trend_6h\",\n",
    "    \"temperature_anomaly\",\n",
    "    \"relative_humidity\",\n",
    "    \"relative_humidity_trend_3h\",\n",
    "    \"relative_humidity_trend_6h\",\n",
    "    \"pressure\",\n",
    "    \"pressure_trend_3h\",\n",
    "    \"pressure_trend_6h\",\n",
    "    \"precipitation\",\n",
    "    \"precipitation_trend_3h\",\n",
    "    \"precipitation_trend_6h\",\n",
    "    \"wind_u\",\n",
    "    \"wind_v\",\n",
    "    \"traffic_daily_fraction\",\n",
    "    \"traffic_yearly_mean_fraction\",\n",
    "    \"no2_anomaly\",\n",
    "]\n",
    "TARGET = \"no2_gios\"\n",
    "SPLIT_RANDOM_STATE = None # integer or None for random split\n",
    "VALIDATION_SPLIT = 0.3\n",
    "TUNE_HYPERPARAMETERS = False # True or False to skip\n",
    "# Model parameters to use without tuning\n",
    "N_ESTIMATORS=600\n",
    "MAX_DEPTH=26\n",
    "MIN_SAMPLES_SPLIT=4\n",
    "MIN_SAMPLES_LEAF=1\n",
    "MAX_FEATURES=\"log2\"\n",
    "BOOTSTRAP=True\n",
    "# Dictionary with parameters to tune\n",
    "HYPERPARAMETERS_GRID = {\n",
    "    \"n_estimators\": [600, 1000], # integer\n",
    "    \"max_depth\": [50, 30, None], # integer, None\n",
    "    \"min_samples_split\": [2, 5], # integer\n",
    "    \"min_samples_leaf\": [1, 2], # integer\n",
    "    \"max_features\": [\"sqrt\", \"log2\"], # \"sqrt\", \"log2\"\n",
    "    \"bootstrap\": [True, False], # True, False\n",
    "}\n",
    "LIMIT_DATASET = None # Number of rows or None to skip\n",
    "EXPORT_MODEL = True # True or False to skip\n",
    "PLOT_MODEL_PARAMETERS_INFLUENCE = False # True or False to skip"
   ]
  },
  {
   "cell_type": "code",
   "execution_count": null,
   "id": "f0b6cde3-91f1-422e-b899-e9e5d6d405df",
   "metadata": {},
   "outputs": [],
   "source": [
    "if not SPLIT_RANDOM_STATE:\n",
    "    from random import randint\n",
    "\n",
    "    SPLIT_RANDOM_STATE = randint(1, 1000)\n",
    "    print(f\"Random split state: {SPLIT_RANDOM_STATE}\")"
   ]
  },
  {
   "cell_type": "markdown",
   "id": "0cca50f6-f23d-437d-8fc4-5d56f0e1d374",
   "metadata": {},
   "source": [
    "## Set default font for graphs"
   ]
  },
  {
   "cell_type": "code",
   "execution_count": null,
   "id": "5841b2f3-c857-4cea-aac4-02b002607437",
   "metadata": {},
   "outputs": [],
   "source": [
    "mpl.rcParams[\"font.family\"] = \"Palatino Linotype\""
   ]
  },
  {
   "cell_type": "markdown",
   "id": "4c86ed7c-970c-4ec1-be11-a959473cad57",
   "metadata": {},
   "source": [
    "## Helper functions"
   ]
  },
  {
   "cell_type": "code",
   "execution_count": null,
   "id": "08e82fec-2b18-4389-b611-8cdafa8635bc",
   "metadata": {},
   "outputs": [],
   "source": [
    "from typing import Tuple\n",
    "\n",
    "def rounded_range(data: pd.Series, resolution: int = 10) -> Tuple[int, int]:\n",
    "    bottom = round(data.min() / resolution - 0.5) * resolution\n",
    "    top = round(data.max() / resolution + 0.5) * resolution\n",
    "\n",
    "    return (bottom, top)"
   ]
  },
  {
   "cell_type": "code",
   "execution_count": null,
   "id": "e90f9760-1a36-4cef-bae1-7e1f75f79484",
   "metadata": {},
   "outputs": [],
   "source": [
    "def normalize_to_range(values, new_min=0.01, new_max=1.0):\n",
    "    old_min = values.min()\n",
    "    old_max = values.max()\n",
    "    return new_min + (values - old_min) * (new_max - new_min) / (old_max - old_min)"
   ]
  },
  {
   "cell_type": "markdown",
   "id": "9cb75999-4c09-4b5f-8bee-b7e90640d59e",
   "metadata": {},
   "source": [
    "## Read data"
   ]
  },
  {
   "cell_type": "code",
   "execution_count": null,
   "id": "35148fdc-7313-40da-ba33-252a9b0e86af",
   "metadata": {},
   "outputs": [],
   "source": [
    "df = pd.read_csv(DATA_FILE)\n",
    "df = df[[TARGET] + SELECTED_PARAMETERS]\n",
    "df.dropna(inplace=True)\n",
    "df.head()"
   ]
  },
  {
   "cell_type": "code",
   "execution_count": null,
   "id": "2543cba1-ae27-4cf3-9b8d-dafd4f4a5851",
   "metadata": {},
   "outputs": [],
   "source": [
    "if LIMIT_DATASET:\n",
    "    df = df.sample(n=LIMIT_DATASET)\n",
    "    df"
   ]
  },
  {
   "cell_type": "markdown",
   "id": "9694f53c-995e-4dcf-8726-522004f6961f",
   "metadata": {},
   "source": [
    "## Exploratory data analysis"
   ]
  },
  {
   "cell_type": "code",
   "execution_count": null,
   "id": "150abd15-e384-4c61-a6f1-5a61fcd6a0b5",
   "metadata": {},
   "outputs": [],
   "source": [
    "data_analysis.correlation_matrix_heatmap(df, output_file=None, annotate=False)"
   ]
  },
  {
   "cell_type": "markdown",
   "id": "b9448913-dd1f-4a74-9170-3b015947e844",
   "metadata": {},
   "source": [
    "## Prepare data for training"
   ]
  },
  {
   "cell_type": "code",
   "execution_count": null,
   "id": "332e5d2c-d3ce-4f2d-9936-ad960e952e80",
   "metadata": {},
   "outputs": [],
   "source": [
    "df.dropna(inplace=True)\n",
    "df.reset_index(inplace=True, drop=True)"
   ]
  },
  {
   "cell_type": "code",
   "execution_count": null,
   "id": "1a5fb9d3-ea17-444b-8cac-eeba56719a5a",
   "metadata": {},
   "outputs": [],
   "source": [
    "bins_resolution = 10\n",
    "_, top_range = rounded_range(df[TARGET], resolution = bins_resolution)\n",
    "bins = list(range(0, top_range + bins_resolution, bins_resolution))\n",
    "labels = [f\"{bins[i]}-{bins[i+1]}\" for i in range(len(bins) - 1)]\n",
    "df[\"concentration_bin\"] = pd.cut(df[TARGET], bins=bins, labels=labels)"
   ]
  },
  {
   "cell_type": "code",
   "execution_count": null,
   "id": "71ad136d-ff17-453b-a464-be3fb454bcaf",
   "metadata": {},
   "outputs": [],
   "source": [
    "from sklearn.model_selection import StratifiedShuffleSplit\n",
    "\n",
    "split = StratifiedShuffleSplit(n_splits=1, test_size=VALIDATION_SPLIT, random_state=SPLIT_RANDOM_STATE)\n",
    "\n",
    "for train_index, validation_index in split.split(df, df[\"concentration_bin\"]):\n",
    "    df_stratified_training = df.loc[train_index]\n",
    "    df_stratified_validation = df.loc[validation_index]"
   ]
  },
  {
   "cell_type": "code",
   "execution_count": null,
   "id": "06094e97-9d17-48ed-9d1e-417eaeece283",
   "metadata": {},
   "outputs": [],
   "source": [
    "bin_counts = df_stratified_training[\"concentration_bin\"].value_counts()\n",
    "bin_weights = 1 / bin_counts\n",
    "bin_weights = normalize_to_range(bin_weights)\n",
    "df_stratified_training[\"sample_weight\"] = df_stratified_training[\"concentration_bin\"].map(bin_weights)\n",
    "df_stratified_training[\"sample_weight\"] = df_stratified_training[\"sample_weight\"].astype(\"float64\")\n",
    "weights = df_stratified_training[\"sample_weight\"]"
   ]
  },
  {
   "cell_type": "code",
   "execution_count": null,
   "id": "5bfb75f1-f96a-430d-bc23-223d6b7d6f89",
   "metadata": {},
   "outputs": [],
   "source": [
    "bin_counts = bin_counts.sort_index()\n",
    "\n",
    "plt.figure(figsize=(8, 6), dpi=300)\n",
    "bars = plt.bar(bin_counts.index.astype(str), bin_counts.values)\n",
    "\n",
    "for i, bar in enumerate(bars):\n",
    "    plt.text(\n",
    "        bar.get_x() + bar.get_width() / 2,\n",
    "        100,\n",
    "        str(bin_counts.values[i]),\n",
    "        ha=\"center\",\n",
    "        va=\"bottom\",\n",
    "        fontsize=16,\n",
    "        rotation=90,\n",
    "        color=\"black\",\n",
    "    )\n",
    "\n",
    "plt.title(\"Measurements counts in NO₂ concentration bins\", fontsize=16)\n",
    "plt.xlabel(\"NO₂ concentration bin (μg/m³)\", fontsize=16)\n",
    "plt.ylabel(\"Measurements count\", fontsize=16)\n",
    "plt.xticks(rotation=45, fontsize=12)\n",
    "plt.yticks(fontsize=12)\n",
    "plt.grid(axis=\"y\", linestyle='--', alpha=0.7)\n",
    "plt.tight_layout()\n",
    "\n",
    "if COMMENT:\n",
    "    plt.savefig(f\"dataset_distribution_{COMMENT}.png\")\n",
    "else:\n",
    "    plt.savefig(\"dataset_distribution.png\")\n",
    "\n",
    "plt.show()"
   ]
  },
  {
   "cell_type": "code",
   "execution_count": null,
   "id": "27edd2d0-95ae-41a4-90f0-e445595fd387",
   "metadata": {},
   "outputs": [],
   "source": [
    "for dataset in [df_stratified_training, df_stratified_validation]:\n",
    "    dataset.drop(columns=[\"concentration_bin\", \"sample_weight\"], inplace=True, errors=\"ignore\")"
   ]
  },
  {
   "cell_type": "code",
   "execution_count": null,
   "id": "91bc3b67-de35-409f-a3d5-77fea933fd95",
   "metadata": {},
   "outputs": [],
   "source": [
    "X_training, y_training = data_analysis.split_data(df_stratified_training, TARGET)\n",
    "X_validation, y_validation = data_analysis.split_data(df_stratified_validation, TARGET)"
   ]
  },
  {
   "cell_type": "markdown",
   "id": "e9e9a470-1554-4318-84e5-4a9800ba79b2",
   "metadata": {},
   "source": [
    "## Train model"
   ]
  },
  {
   "cell_type": "code",
   "execution_count": null,
   "id": "03c5f613-f298-4452-905c-7b54178ecc2e",
   "metadata": {},
   "outputs": [],
   "source": [
    "from sklearn.ensemble import RandomForestRegressor"
   ]
  },
  {
   "cell_type": "code",
   "execution_count": null,
   "id": "c0bfe783-5eaa-4f91-97e3-cdd0ec4a1127",
   "metadata": {
    "scrolled": true
   },
   "outputs": [],
   "source": [
    "if TUNE_HYPERPARAMETERS:\n",
    "    from sklearn.model_selection import GridSearchCV\n",
    "    \n",
    "    rf = RandomForestRegressor(random_state=10)\n",
    "\n",
    "    grid_search = GridSearchCV(\n",
    "        estimator=rf,\n",
    "        param_grid=HYPERPARAMETERS_GRID,\n",
    "        cv=5,\n",
    "        scoring=\"r2\", # \"r2\" or \"neg_mean_squared_error\"\n",
    "        n_jobs=-1,\n",
    "        verbose=2\n",
    "    )\n",
    "\n",
    "    grid_search.fit(X_training, y_training, sample_weight=weights)\n",
    "\n",
    "    print(\"Best parameters:\", grid_search.best_params_)\n",
    "\n",
    "    rf_model = grid_search.best_estimator_\n",
    "else:\n",
    "    print(\"Skipped parameters tuning\")\n",
    "    \n",
    "    rf_model = RandomForestRegressor(\n",
    "        n_estimators=N_ESTIMATORS,\n",
    "        max_depth=MAX_DEPTH,\n",
    "        min_samples_split=MIN_SAMPLES_SPLIT,\n",
    "        min_samples_leaf=MIN_SAMPLES_LEAF,\n",
    "        max_features=MAX_FEATURES,\n",
    "        bootstrap=BOOTSTRAP,\n",
    "        random_state=SPLIT_RANDOM_STATE,\n",
    "        n_jobs=-1,\n",
    "    )\n",
    "    \n",
    "    rf_model.fit(X_training, y_training, sample_weight=weights)"
   ]
  },
  {
   "cell_type": "code",
   "execution_count": null,
   "id": "4df0d909-76e9-4b2a-b9d8-207b652d2b8a",
   "metadata": {},
   "outputs": [],
   "source": [
    "if EXPORT_MODEL:\n",
    "    import joblib\n",
    "    \n",
    "    if COMMENT:\n",
    "        joblib.dump(rf_model, f\"../data/random_forest_{TARGET}_{COMMENT}.pkl\")\n",
    "    else:\n",
    "        joblib.dump(rf_model, f\"../data/random_forest_{TARGET}.pkl\")"
   ]
  },
  {
   "cell_type": "markdown",
   "id": "32b09a98-beab-4498-bdaa-96bd03cf2607",
   "metadata": {},
   "source": [
    "## Analyze model performance"
   ]
  },
  {
   "cell_type": "code",
   "execution_count": null,
   "id": "3148b6cf-fe60-4bb8-b6be-97364798c685",
   "metadata": {},
   "outputs": [],
   "source": [
    "from sklearn.metrics import root_mean_squared_error"
   ]
  },
  {
   "cell_type": "code",
   "execution_count": null,
   "id": "97f9f927-d29c-4feb-b9d2-28bc744f26d4",
   "metadata": {},
   "outputs": [],
   "source": [
    "rf_pred = rf_model.predict(X_validation)\n",
    "\n",
    "rmse = root_mean_squared_error(y_validation, rf_pred)\n",
    "r_squared = rf_model.score(X_validation, y_validation)\n",
    "\n",
    "print(\"Performance for unknown data:\")\n",
    "print(f\"Mean Squared Error: {rmse:.2f}\")\n",
    "print(f\"R-squared value: {r_squared:.2f}\")"
   ]
  },
  {
   "cell_type": "code",
   "execution_count": null,
   "id": "eec1a583-758f-490b-912a-fa055da7860a",
   "metadata": {},
   "outputs": [],
   "source": [
    "rf_pred_training = rf_model.predict(X_training)\n",
    "\n",
    "rmse_training = root_mean_squared_error(y_training, rf_pred_training)\n",
    "r_squared_training = rf_model.score(X_training, y_training)\n",
    "\n",
    "print(\"Performance for known data:\")\n",
    "print(f\"Mean Squared Error: {rmse_training:.2f}\")\n",
    "print(f\"R-squared value: {r_squared_training:.2f}\")"
   ]
  },
  {
   "cell_type": "code",
   "execution_count": null,
   "id": "887d9bd3-0173-4b1d-ac0a-1ea2778c714c",
   "metadata": {},
   "outputs": [],
   "source": [
    "_, top_y = rounded_range(y_validation, resolution=10)\n",
    "_, top_rf_pred = rounded_range(rf_pred, resolution=10)\n",
    "\n",
    "axis_min = 0\n",
    "axis_max = max(top_y, top_rf_pred)\n",
    "\n",
    "plt.figure(figsize=(10, 8), dpi=300)\n",
    "\n",
    "sns.scatterplot(x=y_training, y=rf_model.predict(X_training), color=\"red\", label=\"Predictions on train dataset\")\n",
    "\n",
    "plt.plot([axis_min, axis_max], [axis_min, axis_max], \"k--\", label=\"Perfect prediction\")\n",
    "\n",
    "plt.xlabel(\"Measured NO₂ concentration (μg/m³)\", fontsize=16)\n",
    "plt.ylabel(\"Predicted NO₂ concentration (μg/m³)\", fontsize=16)\n",
    "plt.title(\"Predictions of NO₂ concentration on train dataset\", fontsize=16, fontweight=\"bold\")\n",
    "plt.xticks(fontsize=16)\n",
    "plt.yticks(fontsize=16)\n",
    "plt.legend(fontsize=16)\n",
    "plt.grid(True)\n",
    "plt.xlim(axis_min, axis_max)\n",
    "plt.ylim(axis_min, axis_max)\n",
    "plt.gca().set_aspect(\"equal\", adjustable=\"box\")\n",
    "plt.tight_layout()\n",
    "\n",
    "if COMMENT:\n",
    "    plt.savefig(f\"ML_rf_train_data_{TARGET}_osm_{OSM_ID}_hex_{MAP_HEX_SIZE}_{COMMENT}.png\")\n",
    "else:\n",
    "    plt.savefig(f\"ML_rf_train_data_{TARGET}_osm_{OSM_ID}_hex_{MAP_HEX_SIZE}.png\")\n",
    "    \n",
    "plt.show()"
   ]
  },
  {
   "cell_type": "code",
   "execution_count": null,
   "id": "a8e86396-724c-492b-ac01-db6458e8cd7b",
   "metadata": {},
   "outputs": [],
   "source": [
    "import matplotlib.pyplot as plt\n",
    "import seaborn as sns\n",
    "import scipy\n",
    "\n",
    "_, top_y = rounded_range(y_validation, resolution=10)\n",
    "_, top_rf_pred = rounded_range(rf_pred, resolution=10)\n",
    "\n",
    "axis_min = 0\n",
    "axis_max = max(top_y, top_rf_pred)\n",
    "\n",
    "plt.figure(figsize=(10, 8), dpi=300)\n",
    "\n",
    "sns.scatterplot(x=y_validation, y=rf_pred, color=\"blue\", label=\"Predictions on validation dataset\")\n",
    "p = sns.regplot(x=y_validation, y=rf_pred, scatter=False, color=\"black\", label=\"Regression line\")\n",
    "slope, intercept, r, p, sterr = scipy.stats.linregress(x=p.get_lines()[0].get_xdata(), y=p.get_lines()[0].get_ydata())\n",
    "\n",
    "plt.plot([axis_min, axis_max], [axis_min, axis_max], \"k--\", label=\"Perfect prediction\")\n",
    "\n",
    "plt.xlabel(\"Measured NO₂ concentration (μg/m³)\", fontsize=16)\n",
    "plt.ylabel(\"Predicted NO₂ concentration (μg/m³)\", fontsize=16)\n",
    "plt.title(f\"Predictions of NO₂ concentration on validation dataset\\nRMSE: {rmse:.2f}, R²: {r_squared:.2f}, y = {slope:.3f} x + {intercept:.3f}\", fontsize=16, fontweight=\"bold\")\n",
    "plt.xticks(fontsize=16)\n",
    "plt.yticks(fontsize=16)\n",
    "plt.legend(fontsize=16)\n",
    "plt.grid(True)\n",
    "plt.xlim(axis_min, axis_max)\n",
    "plt.ylim(axis_min, axis_max)\n",
    "plt.gca().set_aspect(\"equal\", adjustable=\"box\")\n",
    "plt.tight_layout()\n",
    "\n",
    "if COMMENT:\n",
    "    plt.savefig(f\"ML_rf_validation_data_{TARGET}_osm_{OSM_ID}_hex_{MAP_HEX_SIZE}_{COMMENT}.png\")\n",
    "else:\n",
    "    plt.savefig(f\"ML_rf_validation_data_{TARGET}_osm_{OSM_ID}_hex_{MAP_HEX_SIZE}.png\")\n",
    "\n",
    "plt.show()"
   ]
  },
  {
   "cell_type": "code",
   "execution_count": null,
   "id": "ff1fd624-0627-44b3-b88b-adb41c04a0b9",
   "metadata": {},
   "outputs": [],
   "source": [
    "coeffs = pd.Series(rf_model.feature_importances_, index=X_training.columns)\n",
    "print(coeffs.sort_values(ascending=False))"
   ]
  },
  {
   "cell_type": "code",
   "execution_count": null,
   "id": "4283d07f-69ac-4a63-957b-d07fabe0ffa0",
   "metadata": {},
   "outputs": [],
   "source": [
    "plt.figure(figsize=(8, 6), dpi=300)\n",
    "bars = plt.bar(range(len(coeffs.sort_values(ascending=False)[:10])), coeffs.sort_values(ascending=False)[:10].values)\n",
    "\n",
    "for i, bar in enumerate(bars):\n",
    "    plt.text(\n",
    "        bar.get_x() + bar.get_width() / 2, 0.005,\n",
    "        coeffs.sort_values(ascending=False)[:10].index[i],\n",
    "        ha=\"center\",\n",
    "        va=\"bottom\",\n",
    "        fontsize=16,\n",
    "        rotation=90,\n",
    "        color=\"black\",\n",
    "    )\n",
    "\n",
    "plt.title(\"Feature importances\", fontsize=16)\n",
    "plt.xlabel(\"Feature\", fontsize=16)\n",
    "plt.ylabel(\"Relative importance\", fontsize=16)\n",
    "plt.xticks([])\n",
    "plt.yticks(fontsize=16)\n",
    "plt.grid(axis=\"y\", linestyle='--', alpha=0.7)\n",
    "plt.tight_layout()\n",
    "\n",
    "if COMMENT:\n",
    "    plt.savefig(f\"ML_rf_feature_importances_{TARGET}_osm_{OSM_ID}_hex_{MAP_HEX_SIZE}_{COMMENT}.png\")\n",
    "else:\n",
    "    plt.savefig(f\"ML_rf_feature_importances_{TARGET}_osm_{OSM_ID}_hex_{MAP_HEX_SIZE}.png\")\n",
    "\n",
    "plt.show()"
   ]
  },
  {
   "cell_type": "code",
   "execution_count": null,
   "id": "6de5b51c-4234-44a9-80a2-f254d56d0f7d",
   "metadata": {},
   "outputs": [],
   "source": [
    "from sklearn.model_selection import cross_val_score\n",
    "\n",
    "scores = cross_val_score(rf_model, X_training, y_training, cv=5, scoring='neg_root_mean_squared_error')\n",
    "print(f\"Cross-validated RMSE: {-scores.mean():.2f} +/- {scores.std():.2f}\")"
   ]
  },
  {
   "cell_type": "code",
   "execution_count": null,
   "id": "8507acd2-a0e6-42d3-8a5b-c55728975b5e",
   "metadata": {},
   "outputs": [],
   "source": [
    "if PLOT_MODEL_PARAMETERS_INFLUENCE:\n",
    "    train_errors = []\n",
    "    test_errors = []\n",
    "    \n",
    "    for estimators in range(100, 1300, 200):\n",
    "        model = RandomForestRegressor(\n",
    "            n_estimators=estimators,\n",
    "            max_depth=MAX_DEPTH,\n",
    "            min_samples_split=MIN_SAMPLES_SPLIT,\n",
    "            min_samples_leaf=MIN_SAMPLES_LEAF,\n",
    "            max_features=MAX_FEATURES,\n",
    "            bootstrap=BOOTSTRAP,\n",
    "            random_state=SPLIT_RANDOM_STATE,\n",
    "            n_jobs=-1,\n",
    "        )\n",
    "        model.fit(X_training, y_training, sample_weight=weights)\n",
    "        \n",
    "        train_pred = model.predict(X_training)\n",
    "        test_pred = model.predict(X_validation)\n",
    "        \n",
    "        train_rmse = root_mean_squared_error(y_training, train_pred)\n",
    "        test_rmse = root_mean_squared_error(y_validation, test_pred)\n",
    "        \n",
    "        train_errors.append(train_rmse)\n",
    "        test_errors.append(test_rmse)\n",
    "    plt.plot(range(100, 1300, 200), train_errors, label=\"Train data\")\n",
    "    plt.plot(range(100, 1300, 200), test_errors, label=\"Test data\")\n",
    "    plt.xlabel(\"n_estimators\")\n",
    "    plt.ylabel(\"RMSE\")\n",
    "    plt.title(\"RMSE n_estimators\")\n",
    "    plt.legend()\n",
    "    plt.show()"
   ]
  },
  {
   "cell_type": "code",
   "execution_count": null,
   "id": "66c6f283-5b2d-4e83-b6ae-f10e15970077",
   "metadata": {},
   "outputs": [],
   "source": [
    "if PLOT_MODEL_PARAMETERS_INFLUENCE:\n",
    "    train_errors = []\n",
    "    test_errors = []\n",
    "    \n",
    "    for depth in range(2, 29, 2):\n",
    "        model = RandomForestRegressor(\n",
    "            n_estimators=N_ESTIMATORS,\n",
    "            max_depth=depth,\n",
    "            min_samples_split=MIN_SAMPLES_SPLIT,\n",
    "            min_samples_leaf=MIN_SAMPLES_LEAF,\n",
    "            max_features=MAX_FEATURES,\n",
    "            bootstrap=BOOTSTRAP,\n",
    "            random_state=SPLIT_RANDOM_STATE,\n",
    "            n_jobs=-1,\n",
    "        )\n",
    "        model.fit(X_training, y_training, sample_weight=weights)\n",
    "        \n",
    "        train_pred = model.predict(X_training)\n",
    "        test_pred = model.predict(X_validation)\n",
    "        \n",
    "        train_rmse = root_mean_squared_error(y_training, train_pred)\n",
    "        test_rmse = root_mean_squared_error(y_validation, test_pred)\n",
    "        \n",
    "        train_errors.append(train_rmse)\n",
    "        test_errors.append(test_rmse)\n",
    "    plt.plot(range(2, 29, 2), train_errors, label=\"Train data\")\n",
    "    plt.plot(range(2, 29, 2), test_errors, label=\"Test data\")\n",
    "    plt.xlabel(\"max_depth\")\n",
    "    plt.ylabel(\"RMSE\")\n",
    "    plt.title(\"RMSE max_depth\")\n",
    "    plt.legend()\n",
    "    plt.show()"
   ]
  },
  {
   "cell_type": "code",
   "execution_count": null,
   "id": "37bd8aca-9ea2-4610-a786-147873ea85a1",
   "metadata": {},
   "outputs": [],
   "source": [
    "if PLOT_MODEL_PARAMETERS_INFLUENCE:\n",
    "    train_errors = []\n",
    "    test_errors = []\n",
    "    \n",
    "    for split in range(2, 21, 2):\n",
    "        model = RandomForestRegressor(\n",
    "            n_estimators=N_ESTIMATORS,\n",
    "            max_depth=MAX_DEPTH,\n",
    "            min_samples_split=split,\n",
    "            min_samples_leaf=MIN_SAMPLES_LEAF,\n",
    "            max_features=MAX_FEATURES,\n",
    "            bootstrap=BOOTSTRAP,\n",
    "            random_state=SPLIT_RANDOM_STATE,\n",
    "            n_jobs=-1,\n",
    "        )\n",
    "        model.fit(X_training, y_training, sample_weight=weights)\n",
    "        \n",
    "        train_pred = model.predict(X_training)\n",
    "        test_pred = model.predict(X_validation)\n",
    "        \n",
    "        train_rmse = root_mean_squared_error(y_training, train_pred)\n",
    "        test_rmse = root_mean_squared_error(y_validation, test_pred)\n",
    "        \n",
    "        train_errors.append(train_rmse)\n",
    "        test_errors.append(test_rmse)\n",
    "    \n",
    "    plt.plot(range(2, 21, 2), train_errors, label=\"Train data\")\n",
    "    plt.plot(range(2, 21, 2), test_errors, label=\"Test data\")\n",
    "    plt.xlabel(\"min_samples_split\")\n",
    "    plt.ylabel(\"RMSE\")\n",
    "    plt.title(\"RMSE min_samples_split\")\n",
    "    plt.legend()\n",
    "    plt.show()"
   ]
  },
  {
   "cell_type": "code",
   "execution_count": null,
   "id": "19f8ae50-099c-4083-b8aa-6b94aa37f532",
   "metadata": {},
   "outputs": [],
   "source": [
    "if PLOT_MODEL_PARAMETERS_INFLUENCE:\n",
    "    train_errors = []\n",
    "    test_errors = []\n",
    "    \n",
    "    for leaf in range(1, 20, 2):\n",
    "        model = RandomForestRegressor(\n",
    "            n_estimators=N_ESTIMATORS,\n",
    "            max_depth=MAX_DEPTH,\n",
    "            min_samples_split=MIN_SAMPLES_SPLIT,\n",
    "            min_samples_leaf=leaf,\n",
    "            max_features=MAX_FEATURES,\n",
    "            bootstrap=BOOTSTRAP,\n",
    "            random_state=SPLIT_RANDOM_STATE,\n",
    "            n_jobs=-1,\n",
    "        )\n",
    "        model.fit(X_training, y_training, sample_weight=weights)\n",
    "        \n",
    "        train_pred = model.predict(X_training)\n",
    "        test_pred = model.predict(X_validation)\n",
    "        \n",
    "        train_rmse = root_mean_squared_error(y_training, train_pred)\n",
    "        test_rmse = root_mean_squared_error(y_validation, test_pred)\n",
    "        \n",
    "        train_errors.append(train_rmse)\n",
    "        test_errors.append(test_rmse)\n",
    "    \n",
    "    plt.plot(range(1, 20, 2), train_errors, label=\"Train data\")\n",
    "    plt.plot(range(1, 20, 2), test_errors, label=\"Test data\")\n",
    "    plt.xlabel(\"min_samples_leaf\")\n",
    "    plt.ylabel(\"RMSE\")\n",
    "    plt.title(\"RMSE min_samples_leaf\")\n",
    "    plt.legend()\n",
    "    plt.show()"
   ]
  },
  {
   "cell_type": "markdown",
   "id": "4cd6cd23-13d3-4655-bde6-c48360a18aa2",
   "metadata": {},
   "source": [
    "## Generate output file"
   ]
  },
  {
   "cell_type": "code",
   "execution_count": null,
   "id": "9378a648-6fc5-4cbc-b619-5642d9949c9b",
   "metadata": {},
   "outputs": [],
   "source": [
    "if COMMENT:\n",
    "    text_file_name = f\"ML_rf_model_parameters_{TARGET}_osm_{OSM_ID}_hex_{MAP_HEX_SIZE}_{COMMENT}.txt\"\n",
    "else:\n",
    "    text_file_name = f\"ML_rf_model_parameters_{TARGET}_osm_{OSM_ID}_hex_{MAP_HEX_SIZE}.txt\"\n",
    "\n",
    "with open(text_file_name, \"w\") as f:\n",
    "    if TUNE_HYPERPARAMETERS:\n",
    "        f.write(\"Best model parameters:\\n\")\n",
    "        for parameter in grid_search.best_params_:\n",
    "            f.write(f\"{parameter}: {grid_search.best_params_[parameter]}\\n\\n\")\n",
    "    else:\n",
    "        f.write(\"Model parameters:\\n\")\n",
    "        f.write(f\"N_ESTIMATORS: {N_ESTIMATORS}\")\n",
    "        f.write(f\"\\nMAX_DEPTH: {MAX_DEPTH}\")\n",
    "        f.write(f\"\\nMIN_SAMPLES_SPLIT: {MIN_SAMPLES_SPLIT}\")\n",
    "        f.write(f\"\\nMIN_SAMPLES_LEAF: {MIN_SAMPLES_LEAF}\")\n",
    "        f.write(f\"\\nMAX_FEATURES: {MAX_FEATURES}\")\n",
    "        f.write(f\"\\nBOOTSTRAP: {BOOTSTRAP}\")\n",
    "        f.write(\"\\n\\n\")\n",
    "    f.write(\"Performance for validation data:\\n\")\n",
    "    f.write(f\"Root Mean Squared Error: {rmse:.2f}\\n\")\n",
    "    f.write(f\"R-squared value: {r_squared:.2f}\\n\")\n",
    "    f.write(\"\\nPerformance for train data:\\n\")\n",
    "    f.write(f\"Root Mean Squared Error: {rmse_training:.2f}\\n\")\n",
    "    f.write(f\"R-squared value: {r_squared_training:.2f}\\n\")\n",
    "    f.write(\"\\nFeature importances:\\n\")\n",
    "    f.write(coeffs.sort_values(ascending=False).to_string())\n",
    "    f.write(f\"\\n\\nCross-validated RMSE: {-scores.mean():.2f} +/- {scores.std():.2f}\")"
   ]
  },
  {
   "cell_type": "code",
   "execution_count": null,
   "id": "ac6d7088-ecee-4d03-bb1e-8d832398b2c3",
   "metadata": {},
   "outputs": [],
   "source": []
  }
 ],
 "metadata": {
  "kernelspec": {
   "display_name": "Python 3 (ipykernel)",
   "language": "python",
   "name": "python3"
  },
  "language_info": {
   "codemirror_mode": {
    "name": "ipython",
    "version": 3
   },
   "file_extension": ".py",
   "mimetype": "text/x-python",
   "name": "python",
   "nbconvert_exporter": "python",
   "pygments_lexer": "ipython3",
   "version": "3.12.10"
  }
 },
 "nbformat": 4,
 "nbformat_minor": 5
}
