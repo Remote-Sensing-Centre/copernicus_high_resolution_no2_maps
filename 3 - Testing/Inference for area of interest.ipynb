{
 "cells": [
  {
   "cell_type": "code",
   "execution_count": null,
   "id": "4e290109-292a-4c8f-816a-20b4261e0e55",
   "metadata": {},
   "outputs": [],
   "source": [
    "import pandas as pd\n",
    "import joblib"
   ]
  },
  {
   "cell_type": "code",
   "execution_count": null,
   "id": "10726e5c-a3f9-45c6-8cf6-275595adbf96",
   "metadata": {},
   "outputs": [],
   "source": [
    "TARGET = \"NO2\"\n",
    "OSM_ID = 8269826\n",
    "MAP_HEX_SIZE = 7\n",
    "COMMENT = \"artificial_min\" # String or None\n",
    "if COMMENT:\n",
    "    ML_INFERENCE_DATA_FILE = f\"../data/{TARGET}_inference_dataset_osm_{OSM_ID}_hex_{MAP_HEX_SIZE}_{COMMENT}.csv\"\n",
    "    ML_MODEL = f\"../data/random_forest_{TARGET}_gios_{COMMENT}.pkl\"\n",
    "else:\n",
    "    ML_INFERENCE_DATA_FILE = f\"../data/{TARGET}_inference_dataset_osm_{OSM_ID}_hex_{MAP_HEX_SIZE}.csv\"\n",
    "    ML_MODEL = f\"../data/random_forest_{TARGET}_gios.pkl\"\n",
    "SELECTED_PARAMETERS = [\n",
    "    \"tree_cover\",\n",
    "    \"grassland\",\n",
    "    \"population_density\",\n",
    "    \"low_vegetation\",\n",
    "    \"medium_vegetation\",\n",
    "    \"high_vegetation\",\n",
    "    \"road\",\n",
    "    \"residential_1\",\n",
    "    \"residential_2\",\n",
    "    \"residential_3\",\n",
    "    \"residential_4\",\n",
    "    \"non-residential_1\",\n",
    "    \"non-residential_2\",\n",
    "    \"non-residential_3\",\n",
    "    \"non-residential_4\",\n",
    "    \"temperature\",\n",
    "    \"temperature_trend_3h\",\n",
    "    \"temperature_trend_6h\",\n",
    "    \"temperature_anomaly\",\n",
    "    \"relative_humidity\",\n",
    "    \"relative_humidity_trend_3h\",\n",
    "    \"relative_humidity_trend_6h\",\n",
    "    \"pressure\",\n",
    "    \"pressure_trend_3h\",\n",
    "    \"pressure_trend_6h\",\n",
    "    \"precipitation\",\n",
    "    \"precipitation_trend_3h\",\n",
    "    \"precipitation_trend_6h\",\n",
    "    \"wind_u\",\n",
    "    \"wind_v\",\n",
    "    \"traffic_daily_fraction\",\n",
    "    \"traffic_yearly_mean_fraction\",\n",
    "    \"no2_anomaly\",\n",
    "]"
   ]
  },
  {
   "cell_type": "code",
   "execution_count": null,
   "id": "5da0fd0a-ad2d-4060-8079-ecf525ab7358",
   "metadata": {},
   "outputs": [],
   "source": [
    "df_inference = pd.read_csv(ML_INFERENCE_DATA_FILE)\n",
    "df_inference = df_inference[[\"timestamp_utc\", \"h3_index\"] + SELECTED_PARAMETERS]\n",
    "df_inference.dropna(inplace=True)\n",
    "df_inference.head()"
   ]
  },
  {
   "cell_type": "code",
   "execution_count": null,
   "id": "82b9d9c9-8c93-4654-b5db-02513e39d06b",
   "metadata": {},
   "outputs": [],
   "source": [
    "df_output = df_inference[[\"timestamp_utc\", \"h3_index\"]].copy()\n",
    "df_inference = df_inference.drop(columns=[\"timestamp_utc\", \"h3_index\"]).copy()"
   ]
  },
  {
   "cell_type": "code",
   "execution_count": null,
   "id": "fe5d482c-660b-44ca-81e5-61ac01ff20dd",
   "metadata": {},
   "outputs": [],
   "source": [
    "rf_model = joblib.load(ML_MODEL)"
   ]
  },
  {
   "cell_type": "code",
   "execution_count": null,
   "id": "0371d84d-33f3-4797-95c5-89d1ef62bd42",
   "metadata": {},
   "outputs": [],
   "source": [
    "df_output[f\"{TARGET}_inference\"] = rf_model.predict(df_inference)\n",
    "df_output.head()"
   ]
  },
  {
   "cell_type": "code",
   "execution_count": null,
   "id": "6dce8769-3b8a-4756-b266-38c8fd188560",
   "metadata": {},
   "outputs": [],
   "source": [
    "df_shp = df_output.copy()"
   ]
  },
  {
   "cell_type": "code",
   "execution_count": null,
   "id": "0bd0bc32-ec50-4a94-b07e-4e024f155715",
   "metadata": {},
   "outputs": [],
   "source": [
    "import geopandas as gpd\n",
    "import h3\n",
    "from shapely.geometry import Polygon"
   ]
  },
  {
   "cell_type": "code",
   "execution_count": null,
   "id": "0789c289-5649-4272-8e03-79d957ea40a7",
   "metadata": {},
   "outputs": [],
   "source": [
    "def cell_to_polygon(cell):\n",
    "    # Coordinates in (latitude, longitude) format\n",
    "    coords = h3.cell_to_boundary(cell)\n",
    "    # Switch to (longitude, latitude) format\n",
    "    flipped_coords = tuple(coord[::-1] for coord in coords)\n",
    "    return Polygon(flipped_coords)"
   ]
  },
  {
   "cell_type": "code",
   "execution_count": null,
   "id": "167b722e-aa6e-4d9e-aa02-997360b27505",
   "metadata": {},
   "outputs": [],
   "source": [
    "df_shp[\"timestamp_utc\"] = pd.to_datetime(df_shp[\"timestamp_utc\"])\n",
    "df_shp[\"timestamp_utc\"] = df_shp[\"timestamp_utc\"].dt.strftime(\"%m-%dT%H\")"
   ]
  },
  {
   "cell_type": "code",
   "execution_count": null,
   "id": "7ac90e78-fa64-465a-91d0-ff99c3657de7",
   "metadata": {},
   "outputs": [],
   "source": [
    "df_shp_pivot = df_shp.pivot_table(\n",
    "    index=[\"h3_index\"],\n",
    "    columns=\"timestamp_utc\",\n",
    "    values=\"NO2_inference\",\n",
    ")\n",
    "\n",
    "df_shp_pivot = df_shp_pivot.reset_index()\n",
    "df_shp_pivot.head()"
   ]
  },
  {
   "cell_type": "code",
   "execution_count": null,
   "id": "d698dd9e-5f35-4d5b-8afc-15ac358d1d75",
   "metadata": {},
   "outputs": [],
   "source": [
    "df_shp_pivot[\"geometry\"] = df_shp_pivot.apply(lambda row: cell_to_polygon(row[\"h3_index\"]), axis=1)\n",
    "df_shp_pivot.head()"
   ]
  },
  {
   "cell_type": "code",
   "execution_count": null,
   "id": "dc434627-0a42-43a3-bc7c-b7e622b0df63",
   "metadata": {},
   "outputs": [],
   "source": [
    "gdf_shp_pivot = gpd.GeoDataFrame(df_shp_pivot, geometry=\"geometry\")\n",
    "gdf_shp_pivot = gdf_shp_pivot.set_crs(crs=\"EPSG:4326\")"
   ]
  },
  {
   "cell_type": "code",
   "execution_count": null,
   "id": "3083da14-5a08-45c5-8dbf-c11007d6cab8",
   "metadata": {},
   "outputs": [],
   "source": [
    "if COMMENT:\n",
    "    gdf_shp_pivot.to_file(f\"inference_NO2_osm_{OSM_ID}_hex_{MAP_HEX_SIZE}_{COMMENT}.shp\", driver=\"ESRI Shapefile\")\n",
    "else:\n",
    "    gdf_shp_pivot.to_file(f\"inference_NO2_osm_{OSM_ID}_hex_{MAP_HEX_SIZE}.shp\", driver=\"ESRI Shapefile\")"
   ]
  },
  {
   "cell_type": "code",
   "execution_count": null,
   "id": "e4573bb5-b18f-4a53-888b-52f4a6a9b5f8",
   "metadata": {},
   "outputs": [],
   "source": []
  }
 ],
 "metadata": {
  "kernelspec": {
   "display_name": "Python 3 (ipykernel)",
   "language": "python",
   "name": "python3"
  },
  "language_info": {
   "codemirror_mode": {
    "name": "ipython",
    "version": 3
   },
   "file_extension": ".py",
   "mimetype": "text/x-python",
   "name": "python",
   "nbconvert_exporter": "python",
   "pygments_lexer": "ipython3",
   "version": "3.12.10"
  }
 },
 "nbformat": 4,
 "nbformat_minor": 5
}
