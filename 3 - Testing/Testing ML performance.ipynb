{
 "cells": [
  {
   "cell_type": "code",
   "execution_count": null,
   "id": "522572ed-af3e-4766-960f-a2bc99a58de8",
   "metadata": {},
   "outputs": [],
   "source": [
    "import pandas as pd\n",
    "import joblib\n",
    "import matplotlib as mpl\n",
    "import matplotlib.pyplot as plt\n",
    "import numpy as np"
   ]
  },
  {
   "cell_type": "markdown",
   "id": "2982466a-dad3-41e7-add6-d6ebe76cd2ce",
   "metadata": {},
   "source": [
    "## Settings"
   ]
  },
  {
   "cell_type": "code",
   "execution_count": null,
   "id": "9bd0640c-af4f-484b-b3e5-d155a0d5800c",
   "metadata": {},
   "outputs": [],
   "source": [
    "TARGET = \"NO2\"\n",
    "OSM_ID = 8269826\n",
    "MAP_HEX_SIZE = 7\n",
    "COMMENT = None # String or None\n",
    "TARGET_COLOR = \"blue\"\n",
    "INFERENCE_COLOR = \"firebrick\"\n",
    "if COMMENT:\n",
    "    ML_TEST_DATA_FILE = f\"../data/{TARGET}_test_dataset_osm_{OSM_ID}_hex_{MAP_HEX_SIZE}_{COMMENT}.csv\"\n",
    "    ML_MODEL = f\"../data/random_forest_{TARGET}_gios_{COMMENT}.pkl\"\n",
    "    TEST_TARGET_DATA = f\"../data/{TARGET}_excluded_dataset_osm_{OSM_ID}_hex_{MAP_HEX_SIZE}_{COMMENT}.csv\"\n",
    "else:\n",
    "    ML_TEST_DATA_FILE = f\"../data/{TARGET}_test_dataset_osm_{OSM_ID}_hex_{MAP_HEX_SIZE}.csv\"\n",
    "    ML_MODEL = f\"../data/random_forest_{TARGET}_gios.pkl\"\n",
    "    TEST_TARGET_DATA = f\"../data/{TARGET}_excluded_dataset_osm_{OSM_ID}_hex_{MAP_HEX_SIZE}.csv\"\n",
    "SELECTED_PARAMETERS = [\n",
    "    \"tree_cover\",\n",
    "    \"grassland\",\n",
    "    \"population_density\",\n",
    "    \"low_vegetation\",\n",
    "    \"medium_vegetation\",\n",
    "    \"high_vegetation\",\n",
    "    \"road\",\n",
    "    \"residential_1\",\n",
    "    \"residential_2\",\n",
    "    \"residential_3\",\n",
    "    \"residential_4\",\n",
    "    \"non-residential_1\",\n",
    "    \"non-residential_2\",\n",
    "    \"non-residential_3\",\n",
    "    \"non-residential_4\",\n",
    "    \"temperature\",\n",
    "    \"temperature_trend_3h\",\n",
    "    \"temperature_trend_6h\",\n",
    "    \"temperature_anomaly\",\n",
    "    \"relative_humidity\",\n",
    "    \"relative_humidity_trend_3h\",\n",
    "    \"relative_humidity_trend_6h\",\n",
    "    \"pressure\",\n",
    "    \"pressure_trend_3h\",\n",
    "    \"pressure_trend_6h\",\n",
    "    \"precipitation\",\n",
    "    \"precipitation_trend_3h\",\n",
    "    \"precipitation_trend_6h\",\n",
    "    \"wind_u\",\n",
    "    \"wind_v\",\n",
    "    \"traffic_daily_fraction\",\n",
    "    \"traffic_yearly_mean_fraction\",\n",
    "    \"no2_anomaly\",\n",
    "]\n",
    "SELECTED_DATES = [\n",
    "    \"2023-02-28\",\n",
    "    \"2023-03-22\",\n",
    "    \"2023-08-22\",\n",
    "    \"2023-10-18\",\n",
    "]"
   ]
  },
  {
   "cell_type": "markdown",
   "id": "2680df7d-0858-4199-8f05-b675ac9c03d0",
   "metadata": {},
   "source": [
    "## Set default font for graphs"
   ]
  },
  {
   "cell_type": "code",
   "execution_count": null,
   "id": "a95932c0-41bc-49c2-84c4-65aec1c59f75",
   "metadata": {},
   "outputs": [],
   "source": [
    "mpl.rcParams[\"font.family\"] = \"Palatino Linotype\""
   ]
  },
  {
   "cell_type": "markdown",
   "id": "10aaa8aa-da24-4141-a37a-5b47c3c1b946",
   "metadata": {},
   "source": [
    "## Test model inference"
   ]
  },
  {
   "cell_type": "code",
   "execution_count": null,
   "id": "703d63e1-08ff-4b9f-873f-070b5dd5eba2",
   "metadata": {},
   "outputs": [],
   "source": [
    "df_inference = pd.read_csv(ML_TEST_DATA_FILE)\n",
    "df_inference = df_inference[[\"timestamp_utc\", \"h3_index\"] + SELECTED_PARAMETERS]\n",
    "df_inference.dropna(inplace=True)\n",
    "df_inference.head()"
   ]
  },
  {
   "cell_type": "code",
   "execution_count": null,
   "id": "bb3c9fca-dbaf-4b38-aad3-d58e2c133ef1",
   "metadata": {},
   "outputs": [],
   "source": [
    "df_output = df_inference[[\"timestamp_utc\", \"h3_index\"]].copy()\n",
    "df_inference = df_inference.drop(columns=[\"timestamp_utc\", \"h3_index\"]).copy()"
   ]
  },
  {
   "cell_type": "code",
   "execution_count": null,
   "id": "a0315114-4bc0-4fd9-a4c4-1611f57a4581",
   "metadata": {},
   "outputs": [],
   "source": [
    "rf_model = joblib.load(ML_MODEL)"
   ]
  },
  {
   "cell_type": "code",
   "execution_count": null,
   "id": "392e948b-6531-4e5d-904c-cad3e2b1bae7",
   "metadata": {},
   "outputs": [],
   "source": [
    "df_output[f\"{TARGET}_inference\"] = rf_model.predict(df_inference)\n",
    "df_output.head()"
   ]
  },
  {
   "cell_type": "code",
   "execution_count": null,
   "id": "682406d3-5c35-4772-bd4d-94b344552ea5",
   "metadata": {},
   "outputs": [],
   "source": [
    "df_test = pd.read_csv(TEST_TARGET_DATA)\n",
    "df_test"
   ]
  },
  {
   "cell_type": "code",
   "execution_count": null,
   "id": "93759377-7bd3-4e02-b0e1-78c551488457",
   "metadata": {},
   "outputs": [],
   "source": [
    "df_corr = pd.merge(df_test, df_output, on=[\"timestamp_utc\", \"h3_index\"], how=\"inner\")\n",
    "df_corr.head()"
   ]
  },
  {
   "cell_type": "code",
   "execution_count": null,
   "id": "da443a6f-e5cb-408a-a3a3-fb0a47e58845",
   "metadata": {},
   "outputs": [],
   "source": [
    "df_corr[[\"no2_gios\", f\"{TARGET}_inference\"]].corr(method=\"pearson\")"
   ]
  },
  {
   "cell_type": "code",
   "execution_count": null,
   "id": "7ee81be2-7000-46c7-a55e-4598d5db71b7",
   "metadata": {},
   "outputs": [],
   "source": [
    "from sklearn.metrics import root_mean_squared_error"
   ]
  },
  {
   "cell_type": "code",
   "execution_count": null,
   "id": "6e5aa2e3-69f7-4b58-96b8-4df169de2aa7",
   "metadata": {},
   "outputs": [],
   "source": [
    "root_mean_squared_error(df_corr[\"no2_gios\"], df_corr[f\"{TARGET}_inference\"])"
   ]
  },
  {
   "cell_type": "code",
   "execution_count": null,
   "id": "d159e452-9960-406d-bec9-01a4b52209a0",
   "metadata": {},
   "outputs": [],
   "source": [
    "df_corr_monthly = df_corr.copy()\n",
    "df_corr_monthly[\"timestamp_utc\"] = pd.to_datetime(df_corr_monthly[\"timestamp_utc\"])\n",
    "df_corr_monthly[\"month\"] = df_corr_monthly[\"timestamp_utc\"].dt.month\n",
    "df_corr_monthly.drop(columns=[\"h3_index\", \"timestamp_utc\"], inplace=True)\n",
    "df_corr_monthly = df_corr_monthly.groupby(by=\"month\").agg({\n",
    "    \"no2_gios\": [\"mean\", \"std\"],\n",
    "    f\"{TARGET}_inference\":  [\"mean\", \"std\"],\n",
    "})\n",
    "df_corr_monthly"
   ]
  },
  {
   "cell_type": "code",
   "execution_count": null,
   "id": "55c5693b-7ffc-4e01-9a55-20556476d409",
   "metadata": {},
   "outputs": [],
   "source": [
    "x = np.array(df_corr_monthly.index.tolist(), dtype=int)\n",
    "y1 = df_corr_monthly[\"no2_gios\"][\"mean\"].values.astype(float)\n",
    "y1_std = df_corr_monthly[\"no2_gios\"][\"std\"].values.astype(float)\n",
    "y2 = df_corr_monthly[f\"{TARGET}_inference\"][\"mean\"].values.astype(float)\n",
    "y2_std = df_corr_monthly[f\"{TARGET}_inference\"][\"std\"].values.astype(float)\n",
    "\n",
    "fig, axes = plt.subplots(1, 2, figsize=(18, 8), sharey=False, dpi=300)\n",
    "\n",
    "major_ticks = list(range(1, 13))\n",
    "major_ticks_labels = [\"Jan\", \"Feb\", \"Mar\", \"Apr\", \"May\", \"Jun\", \"Jul\", \"Aug\", \"Sep\", \"Oct\", \"Nov\", \"Dec\"]\n",
    "minor_ticks = [i for i in range(1, 13) if i not in major_ticks]\n",
    "\n",
    "axes[0].plot(x, y1, label=\"Ground stations\", color=TARGET_COLOR)\n",
    "axes[0].fill_between(x, y1 - y1_std, y1 + y1_std, alpha=0.2, label=\"± std\", color=TARGET_COLOR)\n",
    "axes[0].set_title(\"a)\", loc=\"left\", fontsize=16, fontweight=\"bold\")\n",
    "axes[0].set_xlabel(\"Month\", fontsize=16)\n",
    "axes[0].set_ylabel(\"Mean NO₂ concentration (μg/m³)\", fontsize=16)\n",
    "axes[0].set_xlim(1, 12)\n",
    "axes[0].set_xticks(major_ticks)\n",
    "axes[0].set_xticklabels(major_ticks_labels, fontsize=16, rotation=45)\n",
    "axes[0].set_xticks(minor_ticks, minor=True)\n",
    "axes[0].set_ylim(0, 45)\n",
    "axes[0].tick_params(axis=\"both\", which=\"major\", labelsize=16, length=7)\n",
    "axes[0].tick_params(axis=\"both\", which=\"minor\", labelsize=0, length=4)\n",
    "axes[0].legend(fontsize=16)\n",
    "axes[0].grid(True, which=\"major\", linestyle=\"--\", alpha=0.8)\n",
    "axes[0].grid(True, which=\"minor\", linestyle=\":\", alpha=0.4)\n",
    "\n",
    "axes[1].plot(x, y2, label=\"ML model inference\", color=INFERENCE_COLOR)\n",
    "axes[1].fill_between(x, y2 - y2_std, y2 + y2_std, alpha=0.2, label=\"± std\", color=INFERENCE_COLOR)\n",
    "axes[1].set_title(\"b)\", loc=\"left\", fontsize=16, fontweight=\"bold\")\n",
    "axes[1].set_xlabel(\"Month\", fontsize=16)\n",
    "axes[1].set_ylabel(\"Mean NO₂ concentration (μg/m³)\", fontsize=16)\n",
    "axes[1].set_xlim(1, 12)\n",
    "axes[1].set_xticks(major_ticks)\n",
    "axes[1].set_xticklabels(major_ticks_labels, fontsize=16, rotation=45)\n",
    "axes[1].set_xticks(minor_ticks, minor=True)\n",
    "axes[1].set_ylim(0, 45)\n",
    "axes[1].tick_params(axis=\"both\", which=\"major\", labelsize=16, length=7)\n",
    "axes[1].tick_params(axis=\"both\", which=\"minor\", labelsize=0, length=4)\n",
    "axes[1].legend(fontsize=16)\n",
    "axes[1].grid(True, which=\"major\", linestyle=\"--\", alpha=0.8)\n",
    "axes[1].grid(True, which=\"minor\", linestyle=\":\", alpha=0.4)\n",
    "\n",
    "plt.tight_layout(rect=[0, 0, 1, 0.95])\n",
    "\n",
    "if COMMENT:\n",
    "    plt.savefig(f\"inference_test_month_{TARGET}_osm_{OSM_ID}_hex_{MAP_HEX_SIZE}_{COMMENT}.png\")\n",
    "else:\n",
    "    plt.savefig(f\"inference_test_month__{TARGET}_osm_{OSM_ID}_hex_{MAP_HEX_SIZE}.png\")\n",
    "\n",
    "plt.show()"
   ]
  },
  {
   "cell_type": "code",
   "execution_count": null,
   "id": "c1d26294-12df-453f-929c-5f72705126bf",
   "metadata": {},
   "outputs": [],
   "source": [
    "df_corr_hourly = df_corr.copy()\n",
    "df_corr_hourly[\"timestamp_utc\"] = pd.to_datetime(df_corr_hourly[\"timestamp_utc\"])\n",
    "df_corr_hourly[\"hour\"] = df_corr_hourly[\"timestamp_utc\"].dt.hour\n",
    "df_corr_hourly.drop(columns=[\"h3_index\", \"timestamp_utc\"], inplace=True)\n",
    "df_corr_hourly = df_corr_hourly.groupby(by=\"hour\").agg({\n",
    "    \"no2_gios\": [\"mean\", \"std\"],\n",
    "    f\"{TARGET}_inference\":  [\"mean\", \"std\"],\n",
    "})\n",
    "df_corr_hourly"
   ]
  },
  {
   "cell_type": "code",
   "execution_count": null,
   "id": "a42882b0-1b29-405c-a02e-e9dd946fea26",
   "metadata": {},
   "outputs": [],
   "source": [
    "x = np.array(df_corr_hourly.index.tolist(), dtype=int)\n",
    "y1 = df_corr_hourly[\"no2_gios\"][\"mean\"].values.astype(float)\n",
    "y1_std = df_corr_hourly[\"no2_gios\"][\"std\"].values.astype(float)\n",
    "y2 = df_corr_hourly[f\"{TARGET}_inference\"][\"mean\"].values.astype(float)\n",
    "y2_std = df_corr_hourly[f\"{TARGET}_inference\"][\"std\"].values.astype(float)\n",
    "\n",
    "fig, axes = plt.subplots(1, 2, figsize=(18, 8), sharey=False, dpi=300)\n",
    "\n",
    "major_ticks = [i for i in range(0, 24, 4)]\n",
    "minor_ticks = [i for i in range(0, 24) if i not in major_ticks]\n",
    "axes[0].plot(x, y1, label=\"Ground stations\", color=TARGET_COLOR)\n",
    "axes[0].fill_between(x, y1 - y1_std, y1 + y1_std, alpha=0.2, label=\"± std\", color=TARGET_COLOR)\n",
    "axes[0].set_title(\"a)\", loc=\"left\", fontsize=16, fontweight=\"bold\")\n",
    "axes[0].set_xlabel(\"Hour\", fontsize=16)\n",
    "axes[0].set_ylabel(\"Mean NO₂ concentration (μg/m³)\", fontsize=16)\n",
    "axes[0].set_xlim(0, 23)\n",
    "axes[0].set_xticks(major_ticks)\n",
    "axes[0].set_xticks(minor_ticks, minor=True)\n",
    "axes[0].set_ylim(0, 50)\n",
    "axes[0].tick_params(axis=\"both\", which=\"major\", labelsize=16, length=7)\n",
    "axes[0].tick_params(axis=\"both\", which=\"minor\", labelsize=0, length=4)\n",
    "axes[0].legend(fontsize=16)\n",
    "axes[0].grid(True, which=\"major\", linestyle=\"--\", alpha=0.8)\n",
    "axes[0].grid(True, which=\"minor\", linestyle=\":\", alpha=0.4)\n",
    "\n",
    "axes[1].plot(x, y2, label=\"ML model inference\", color=INFERENCE_COLOR)\n",
    "axes[1].fill_between(x, y2 - y2_std, y2 + y2_std, alpha=0.2, label=\"± std\", color=INFERENCE_COLOR)\n",
    "axes[1].set_title(\"b)\", loc=\"left\", fontsize=16, fontweight=\"bold\")\n",
    "axes[1].set_xlabel(\"Hour\", fontsize=16)\n",
    "axes[1].set_ylabel(\"Mean NO₂ concentration (μg/m³)\", fontsize=16)\n",
    "axes[1].set_xlim(0, 23)\n",
    "axes[1].set_xticks(major_ticks)\n",
    "axes[1].set_xticks(minor_ticks, minor=True)\n",
    "axes[1].set_ylim(0, 50)\n",
    "axes[1].tick_params(axis=\"both\", which=\"major\", labelsize=16, length=7)\n",
    "axes[1].tick_params(axis=\"both\", which=\"minor\", labelsize=0, length=4)\n",
    "axes[1].legend(fontsize=16)\n",
    "axes[1].grid(True, which=\"major\", linestyle=\"--\", alpha=0.8)\n",
    "axes[1].grid(True, which=\"minor\", linestyle=\":\", alpha=0.4)\n",
    "\n",
    "plt.tight_layout(rect=[0, 0, 1, 0.95])\n",
    "\n",
    "if COMMENT:\n",
    "    plt.savefig(f\"inference_test_hour_{TARGET}_osm_{OSM_ID}_hex_{MAP_HEX_SIZE}_{COMMENT}.png\")\n",
    "else:\n",
    "    plt.savefig(f\"inference_test_hour__{TARGET}_osm_{OSM_ID}_hex_{MAP_HEX_SIZE}.png\")\n",
    "\n",
    "plt.show()"
   ]
  },
  {
   "cell_type": "code",
   "execution_count": null,
   "id": "f38ef4d6-36bb-4652-bc7b-026bee94069e",
   "metadata": {},
   "outputs": [],
   "source": []
  }
 ],
 "metadata": {
  "kernelspec": {
   "display_name": "Python 3 (ipykernel)",
   "language": "python",
   "name": "python3"
  },
  "language_info": {
   "codemirror_mode": {
    "name": "ipython",
    "version": 3
   },
   "file_extension": ".py",
   "mimetype": "text/x-python",
   "name": "python",
   "nbconvert_exporter": "python",
   "pygments_lexer": "ipython3",
   "version": "3.12.10"
  }
 },
 "nbformat": 4,
 "nbformat_minor": 5
}
